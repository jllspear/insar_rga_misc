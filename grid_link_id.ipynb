{
 "cells": [
  {
   "cell_type": "code",
   "execution_count": 12,
   "id": "initial_id",
   "metadata": {
    "collapsed": true,
    "ExecuteTime": {
     "end_time": "2024-11-07T10:48:12.145268Z",
     "start_time": "2024-11-07T10:46:38.174770Z"
    }
   },
   "outputs": [],
   "source": [
    "import geopandas as gpd\n",
    "import sqlite3\n",
    "import pandas as pd\n",
    "from shapely import wkt\n",
    "import pyogrio\n",
    "from tqdm import tqdm\n",
    "import numpy as np\n",
    "\n",
    "# geopackage_path = \"C:/Users/eleonore.kong/Documents/InSAR/DATA/wavelet_egms_data.gpkg\"\n",
    "grid_path = \"C:/Users/eleonore.kong/Documents/InSAR/DATA/grid.gpkg\"\n",
    "link_path = \"C:/Users/eleonore.kong/Documents/InSAR/DATA/tables_link.gpkg\"\n",
    "grid_to_process = 'grid_10km'\n",
    "output = \"C:/Users/eleonore.kong/Documents/InSAR/DATA/\"\n",
    "\n",
    "df_grid = pyogrio.read_dataframe(grid_path, layer=grid_to_process)\n",
    "df_grid = df_grid[['id', 'geometry']]\n",
    "df_grid.rename(columns={'id':grid_to_process}, inplace=True)\n",
    "df_link = pyogrio.read_dataframe(link_path, layer='pid_grid_link')"
   ]
  },
  {
   "cell_type": "code",
   "outputs": [
    {
     "data": {
      "text/plain": "                       Burst ID         pid  grid_1km  grid_500m  grid_5km  \\\n0        EGMS_L3_E33N22_100km_U  40S1dfHwRI       NaN  1018987.0       NaN   \n1        EGMS_L3_E33N22_100km_U  40S1wPwvDZ       NaN  1018987.0       NaN   \n2        EGMS_L3_E33N22_100km_U  40S216cAPf       NaN  1020947.0       NaN   \n3        EGMS_L3_E33N22_100km_U  40S25nHPbj       NaN  1020947.0       NaN   \n4        EGMS_L3_E33N22_100km_U  40S1rjHg1Y  242425.0  1020947.0       NaN   \n...                         ...         ...       ...        ...       ...   \n8369362  EGMS_L3_E41N28_100km_U  40ZAtawbFB       NaN  4457467.0       NaN   \n8369363  EGMS_L3_E41N28_100km_U  40ZAI5cdgg       NaN  4457469.0       NaN   \n8369364  EGMS_L3_E41N28_100km_U  40ZAfWwrf0       NaN  4457468.0       NaN   \n8369365  EGMS_L3_E41N28_100km_U  40ZAkDc6r4       NaN  4457468.0       NaN   \n8369366  EGMS_L3_E41N28_100km_U  40ZAyHbqRG       NaN  4457467.0       NaN   \n\n         grid_250m                         geometry  index_right  grid_10km  \n0              NaN   POINT (324139.481 6236795.067)          NaN        NaN  \n1              NaN   POINT (324204.592 6237203.424)          NaN        NaN  \n2              NaN   POINT (324395.245 6237322.427)          NaN        NaN  \n3              NaN   POINT (324386.611 6237422.100)          NaN        NaN  \n4              NaN   POINT (324512.154 6237132.748)          NaN        NaN  \n...            ...                              ...          ...        ...  \n8369362        NaN  POINT (1084113.418 6897018.217)          NaN        NaN  \n8369363        NaN  POINT (1084284.746 6896230.240)          NaN        NaN  \n8369364        NaN  POINT (1084239.901 6896728.358)          NaN        NaN  \n8369365        NaN  POINT (1084230.932 6896827.981)          NaN        NaN  \n8369366        NaN  POINT (1084204.024 6897126.852)          NaN        NaN  \n\n[8369367 rows x 9 columns]",
      "text/html": "<div>\n<style scoped>\n    .dataframe tbody tr th:only-of-type {\n        vertical-align: middle;\n    }\n\n    .dataframe tbody tr th {\n        vertical-align: top;\n    }\n\n    .dataframe thead th {\n        text-align: right;\n    }\n</style>\n<table border=\"1\" class=\"dataframe\">\n  <thead>\n    <tr style=\"text-align: right;\">\n      <th></th>\n      <th>Burst ID</th>\n      <th>pid</th>\n      <th>grid_1km</th>\n      <th>grid_500m</th>\n      <th>grid_5km</th>\n      <th>grid_250m</th>\n      <th>geometry</th>\n      <th>index_right</th>\n      <th>grid_10km</th>\n    </tr>\n  </thead>\n  <tbody>\n    <tr>\n      <th>0</th>\n      <td>EGMS_L3_E33N22_100km_U</td>\n      <td>40S1dfHwRI</td>\n      <td>NaN</td>\n      <td>1018987.0</td>\n      <td>NaN</td>\n      <td>NaN</td>\n      <td>POINT (324139.481 6236795.067)</td>\n      <td>NaN</td>\n      <td>NaN</td>\n    </tr>\n    <tr>\n      <th>1</th>\n      <td>EGMS_L3_E33N22_100km_U</td>\n      <td>40S1wPwvDZ</td>\n      <td>NaN</td>\n      <td>1018987.0</td>\n      <td>NaN</td>\n      <td>NaN</td>\n      <td>POINT (324204.592 6237203.424)</td>\n      <td>NaN</td>\n      <td>NaN</td>\n    </tr>\n    <tr>\n      <th>2</th>\n      <td>EGMS_L3_E33N22_100km_U</td>\n      <td>40S216cAPf</td>\n      <td>NaN</td>\n      <td>1020947.0</td>\n      <td>NaN</td>\n      <td>NaN</td>\n      <td>POINT (324395.245 6237322.427)</td>\n      <td>NaN</td>\n      <td>NaN</td>\n    </tr>\n    <tr>\n      <th>3</th>\n      <td>EGMS_L3_E33N22_100km_U</td>\n      <td>40S25nHPbj</td>\n      <td>NaN</td>\n      <td>1020947.0</td>\n      <td>NaN</td>\n      <td>NaN</td>\n      <td>POINT (324386.611 6237422.100)</td>\n      <td>NaN</td>\n      <td>NaN</td>\n    </tr>\n    <tr>\n      <th>4</th>\n      <td>EGMS_L3_E33N22_100km_U</td>\n      <td>40S1rjHg1Y</td>\n      <td>242425.0</td>\n      <td>1020947.0</td>\n      <td>NaN</td>\n      <td>NaN</td>\n      <td>POINT (324512.154 6237132.748)</td>\n      <td>NaN</td>\n      <td>NaN</td>\n    </tr>\n    <tr>\n      <th>...</th>\n      <td>...</td>\n      <td>...</td>\n      <td>...</td>\n      <td>...</td>\n      <td>...</td>\n      <td>...</td>\n      <td>...</td>\n      <td>...</td>\n      <td>...</td>\n    </tr>\n    <tr>\n      <th>8369362</th>\n      <td>EGMS_L3_E41N28_100km_U</td>\n      <td>40ZAtawbFB</td>\n      <td>NaN</td>\n      <td>4457467.0</td>\n      <td>NaN</td>\n      <td>NaN</td>\n      <td>POINT (1084113.418 6897018.217)</td>\n      <td>NaN</td>\n      <td>NaN</td>\n    </tr>\n    <tr>\n      <th>8369363</th>\n      <td>EGMS_L3_E41N28_100km_U</td>\n      <td>40ZAI5cdgg</td>\n      <td>NaN</td>\n      <td>4457469.0</td>\n      <td>NaN</td>\n      <td>NaN</td>\n      <td>POINT (1084284.746 6896230.240)</td>\n      <td>NaN</td>\n      <td>NaN</td>\n    </tr>\n    <tr>\n      <th>8369364</th>\n      <td>EGMS_L3_E41N28_100km_U</td>\n      <td>40ZAfWwrf0</td>\n      <td>NaN</td>\n      <td>4457468.0</td>\n      <td>NaN</td>\n      <td>NaN</td>\n      <td>POINT (1084239.901 6896728.358)</td>\n      <td>NaN</td>\n      <td>NaN</td>\n    </tr>\n    <tr>\n      <th>8369365</th>\n      <td>EGMS_L3_E41N28_100km_U</td>\n      <td>40ZAkDc6r4</td>\n      <td>NaN</td>\n      <td>4457468.0</td>\n      <td>NaN</td>\n      <td>NaN</td>\n      <td>POINT (1084230.932 6896827.981)</td>\n      <td>NaN</td>\n      <td>NaN</td>\n    </tr>\n    <tr>\n      <th>8369366</th>\n      <td>EGMS_L3_E41N28_100km_U</td>\n      <td>40ZAyHbqRG</td>\n      <td>NaN</td>\n      <td>4457467.0</td>\n      <td>NaN</td>\n      <td>NaN</td>\n      <td>POINT (1084204.024 6897126.852)</td>\n      <td>NaN</td>\n      <td>NaN</td>\n    </tr>\n  </tbody>\n</table>\n<p>8369367 rows × 9 columns</p>\n</div>"
     },
     "execution_count": 13,
     "metadata": {},
     "output_type": "execute_result"
    }
   ],
   "source": [
    "gdf = df_link.sjoin(df_grid, how='left')\n",
    "gdf"
   ],
   "metadata": {
    "collapsed": false,
    "ExecuteTime": {
     "end_time": "2024-11-07T10:48:41.211550Z",
     "start_time": "2024-11-07T10:48:12.149054Z"
    }
   },
   "id": "b4415c72b8a64c18",
   "execution_count": 13
  },
  {
   "cell_type": "code",
   "outputs": [],
   "source": [
    "gdf.drop(['index_right'], axis=1, inplace=True)\n",
    "pyogrio.write_dataframe(gdf, link_path, layer='pid_grid_link')"
   ],
   "metadata": {
    "collapsed": false,
    "ExecuteTime": {
     "start_time": "2024-11-07T10:53:21.678015Z"
    }
   },
   "id": "f92437bf8f5985e0",
   "execution_count": null
  },
  {
   "cell_type": "code",
   "outputs": [],
   "source": [
    "pyogrio.write_dataframe(gdf, link_path, layer='pid_grid_link')"
   ],
   "metadata": {
    "collapsed": false,
    "ExecuteTime": {
     "end_time": "2024-11-07T10:57:38.858200Z",
     "start_time": "2024-11-07T10:55:02.780115Z"
    }
   },
   "id": "14fa33b8ea868bae",
   "execution_count": 16
  }
 ],
 "metadata": {
  "kernelspec": {
   "display_name": "Python 3",
   "language": "python",
   "name": "python3"
  },
  "language_info": {
   "codemirror_mode": {
    "name": "ipython",
    "version": 2
   },
   "file_extension": ".py",
   "mimetype": "text/x-python",
   "name": "python",
   "nbconvert_exporter": "python",
   "pygments_lexer": "ipython2",
   "version": "2.7.6"
  }
 },
 "nbformat": 4,
 "nbformat_minor": 5
}
