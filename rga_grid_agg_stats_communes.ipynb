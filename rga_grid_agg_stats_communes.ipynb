{
 "cells": [
  {
   "cell_type": "code",
   "execution_count": 1,
   "id": "initial_id",
   "metadata": {
    "collapsed": true,
    "ExecuteTime": {
     "end_time": "2024-12-02T10:33:40.768559Z",
     "start_time": "2024-12-02T10:28:17.672258Z"
    }
   },
   "outputs": [],
   "source": [
    "import geopandas as gpd\n",
    "import sqlite3\n",
    "import pandas as pd\n",
    "from shapely import wkt\n",
    "import pyogrio\n",
    "from tqdm import tqdm\n",
    "import numpy as np\n",
    "\n",
    "geopackage_path = \"C:/Users/eleonore.kong/Documents/InSAR/DATA/lpf_egms_data.gpkg\"\n",
    "communes_path = \"C:/Users/eleonore.kong/Documents/InSAR/communes_catnat_secheresse.gpkg\"\n",
    "output = \"C:/Users/eleonore.kong/Documents/InSAR/DATA/\"\n",
    "\n",
    "gdf_communes = pyogrio.read_dataframe(communes_path, layer='communes')\n",
    "gdf_communes = gdf_communes[['id', 'nom_m', 'insee_com', 'geometry']]\n",
    "gdf_communes = gdf_communes.to_crs(\"EPSG:2154\")\n",
    "gdf_insar = pyogrio.read_dataframe(geopackage_path, layer='data_rga')"
   ]
  },
  {
   "cell_type": "code",
   "outputs": [],
   "source": [
    "percentile_75 = lambda x: x.quantile(0.75)"
   ],
   "metadata": {
    "collapsed": false,
    "ExecuteTime": {
     "end_time": "2024-12-02T10:33:40.800941Z",
     "start_time": "2024-12-02T10:33:40.774601Z"
    }
   },
   "id": "45d0dd20a1f6589c",
   "execution_count": 2
  },
  {
   "cell_type": "code",
   "outputs": [
    {
     "name": "stderr",
     "output_type": "stream",
     "text": [
      "100%|██████████| 35/35 [20:08<00:00, 34.52s/it]\n"
     ]
    }
   ],
   "source": [
    "i=0\n",
    "chunk_size=1000\n",
    "ids = gdf_communes['id'].unique()\n",
    "ids_sublists = [ids[i:i + chunk_size] for i in range(0, len(ids), chunk_size)]\n",
    "median_gdf = {}\n",
    "geom = {}\n",
    "\n",
    "for ids_list in tqdm(ids_sublists):\n",
    "    com = gdf_communes[gdf_communes['id'].isin(ids_list)]\n",
    "    \n",
    "    gdf = com.sjoin(gdf_insar, how='left')\n",
    "    gdf = gdf[(abs(gdf['gap_insar_swi_trough_days']) <= 30) | (abs(gdf['gap_insar_swi_peak_days']) <= 30)]\n",
    "    \n",
    "    if not gdf.empty :\n",
    "        median_df = gdf.groupby(['id', 'year', 'Type']).agg({ \n",
    "            col : ['median'] for col in gdf.select_dtypes(include='number').columns #, percentile_75\n",
    "        })\n",
    "        median_df.columns = ['_'.join(col).strip() for col in median_df.columns]\n",
    "        # median_df.columns = [col.replace('<lambda_0>', 'p75') for col in median_df.columns]\n",
    "\n",
    "        median_df = median_df.reset_index()\n",
    "        median_df = median_df.merge(gdf_communes, left_on='id', right_on='id', how='left')\n",
    "        median_df.drop('id', axis=1, inplace=True)\n",
    "        median_df = gpd.GeoDataFrame(median_df, crs=2154)\n",
    "\n",
    "        # column_name_diff_per_year = 'summer_winter_amplitude_diff_'\n",
    "\n",
    "        # for stat in ('median', 'p75'):\n",
    "        #     median_df[stat + '_summer_winter_amplitude_diff'] = median_df.apply(lambda row : med_summer_winter_amplitude_diff(row, stat), axis=1)\n",
    "        \n",
    "            # median_df[stat + '_evolution_amplitude'] = median_df.apply(lambda row : amplitude_evolution(row, stat), axis=1)\n",
    "        \n",
    "            # for season in ['summer', 'winter']:\n",
    "            #     median_df[stat + '_' + season + '_amplitude'] = median_df.apply(lambda row : med_seasonal_amplitude(row, season, stat), axis=1)\n",
    "            #     median_df[stat + '_evolution_'+ season +'_amplitude'] = median_df.apply(lambda row : seasonal_amplitude_evolution(row, season, stat), axis=1)\n",
    "        \n",
    "        if i > 0:\n",
    "            pyogrio.write_dataframe(median_df, output + 'grid_stats_agg_lpf.gpkg', layer='communes', driver=\"GPKG\", append=True)\n",
    "        else:\n",
    "            pyogrio.write_dataframe(median_df, output + 'grid_stats_agg_lpf.gpkg', layer='communes', driver=\"GPKG\")\n",
    "\n",
    "    i += 1"
   ],
   "metadata": {
    "collapsed": false,
    "ExecuteTime": {
     "end_time": "2024-12-02T10:53:49.115480Z",
     "start_time": "2024-12-02T10:33:40.802422Z"
    }
   },
   "id": "b4415c72b8a64c18",
   "execution_count": 3
  }
 ],
 "metadata": {
  "kernelspec": {
   "display_name": "Python 3",
   "language": "python",
   "name": "python3"
  },
  "language_info": {
   "codemirror_mode": {
    "name": "ipython",
    "version": 2
   },
   "file_extension": ".py",
   "mimetype": "text/x-python",
   "name": "python",
   "nbconvert_exporter": "python",
   "pygments_lexer": "ipython2",
   "version": "2.7.6"
  }
 },
 "nbformat": 4,
 "nbformat_minor": 5
}
