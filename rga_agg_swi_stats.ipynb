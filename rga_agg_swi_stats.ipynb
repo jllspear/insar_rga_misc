{
 "cells": [
  {
   "cell_type": "code",
   "execution_count": 4,
   "id": "initial_id",
   "metadata": {
    "collapsed": true,
    "ExecuteTime": {
     "end_time": "2024-11-05T08:45:41.619548Z",
     "start_time": "2024-11-05T08:45:41.602550Z"
    }
   },
   "outputs": [],
   "source": [
    "import numpy as np\n",
    "import pyogrio\n",
    "import geopandas as gpd\n",
    "import pandas as pd\n",
    "from tqdm import tqdm\n",
    "from functools import reduce\n",
    "\n",
    "insar_data_path = \"C:/Users/eleonore.kong/Documents/InSAR/DATA/harmonic_egms_data_phase_filter.gpkg\"\n",
    "rga_risk_data_path = \"C:/Users/eleonore.kong/Documents/InSAR/ARGILES/Risk_ARG.gpkg\"\n",
    "swi_data_path = \"C:/Users/eleonore.kong/Documents/InSAR/SWI/SWI_Package_1969-2023.gpkg\"\n",
    "\n",
    "layer = 'data'\n",
    "output = \"C:/Users/eleonore.kong/Documents/InSAR/DATA/\""
   ]
  },
  {
   "cell_type": "code",
   "outputs": [],
   "source": [
    "# sql = 'SELECT pid FROM ' + layer \n",
    "# ids = pyogrio.read_dataframe(insar_data_path, sql=sql)['pid'].tolist()\n",
    "\n",
    "# rga_df = pyogrio.read_dataframe(rga_risk_data_path, layer='ExpoArgile_Fxx_L93')\n",
    "# rga_df = rga_df.drop(['DPT','ALEA'], axis=1)\n",
    "\n",
    "swi_sql = 'SELECT * FROM buffured_swi WHERE YEAR >= 2015 AND YEAR <= 2021'\n",
    "swi_df = pyogrio.read_dataframe(swi_data_path, sql=swi_sql)"
   ],
   "metadata": {
    "collapsed": false,
    "ExecuteTime": {
     "end_time": "2024-11-05T08:45:45.904179Z",
     "start_time": "2024-11-05T08:45:41.654552Z"
    }
   },
   "id": "e32c865e62efd7b6",
   "execution_count": 5
  },
  {
   "cell_type": "code",
   "outputs": [
    {
     "name": "stdout",
     "output_type": "stream",
     "text": [
      "Calculate winter swi\n",
      "Calculate summer swi\n",
      "Calculate annual swi\n",
      "Calculate annual season swi\n",
      "Merging data\n"
     ]
    }
   ],
   "source": [
    "# swi_mean = swi_df[(swi_df['YEAR'] >= 2015) & (swi_df['YEAR'] <= 2020)]\n",
    "new_data = []\n",
    "swi_mean = swi_df[['geometry', 'SWI_UNIF_MENS3']].groupby(['geometry']).mean().reset_index()\n",
    "swi_mean = gpd.GeoDataFrame(swi_mean, crs=2154)\n",
    "swi_mean = swi_mean.rename(columns={'SWI_UNIF_MENS3': 'mean_swi'})\n",
    "new_data.append(swi_mean)\n",
    "\n",
    "print(\"Calculate winter swi\")\n",
    "swi_winter = swi_df[(swi_df['MONTH'] <= 3) | (swi_df['MONTH'] >= 11)]\n",
    "swi_winter = swi_winter[['geometry', 'SWI_UNIF_MENS3']].groupby(['geometry']).max().reset_index()\n",
    "swi_winter = gpd.GeoDataFrame(swi_winter, crs=2154)\n",
    "swi_winter = swi_winter.rename(columns={'SWI_UNIF_MENS3': 'winter_max_swi'})\n",
    "new_data.append(swi_winter)\n",
    "\n",
    "print(\"Calculate summer swi\")\n",
    "swi_summer = swi_df[(swi_df['MONTH'] >= 6) & (swi_df['MONTH'] <= 9)]\n",
    "swi_summer = swi_summer[['geometry', 'SWI_UNIF_MENS3']].groupby(['geometry']).min().reset_index()\n",
    "swi_summer= gpd.GeoDataFrame(swi_summer, crs=2154)\n",
    "swi_summer = swi_summer.rename(columns={'SWI_UNIF_MENS3': 'summer_min_swi'})\n",
    "new_data.append(swi_summer)\n",
    "\n",
    "print(\"Calculate annual swi\")\n",
    "for year in [2015,2016,2017,2018,2019,2020]:\n",
    "    oct_dec_swi = (swi_df['YEAR'] == year) & ((swi_df['MONTH'] >=10))\n",
    "    janv_sept_swi = (swi_df['YEAR'] == year+1) & ((swi_df['MONTH'] <=9))\n",
    "    data = swi_df[(oct_dec_swi) | (janv_sept_swi)][['geometry', 'SWI_UNIF_MENS3']].groupby(['geometry']).mean().reset_index()\n",
    "    data = data.rename(columns={'SWI_UNIF_MENS3': 'annual_mean_swi_'+str(year+1)})\n",
    "    data= gpd.GeoDataFrame(data, crs=2154)\n",
    "    new_data.append(data)\n",
    "    \n",
    "print(\"Calculate annual season swi\")\n",
    "for year in [2015,2016,2017,2018,2019,2020]:\n",
    "    nov_dec = (swi_df['YEAR'] == year) & ((swi_df['MONTH'] >=11))\n",
    "    janv_mars = (swi_df['YEAR'] == year+1) & ((swi_df['MONTH'] <=3))\n",
    "    data = swi_df[(nov_dec) | (janv_mars)][['geometry', 'SWI_UNIF_MENS3']].groupby(['geometry']).max().reset_index()\n",
    "    data = data.rename(columns={'SWI_UNIF_MENS3': 'winter_max_swi_'+str(year+1)})\n",
    "    data= gpd.GeoDataFrame(data, crs=2154)\n",
    "    new_data.append(data)\n",
    "for year in [2016,2017,2018,2019,2020,2021]:\n",
    "    data = swi_df[(swi_df['YEAR'] == year) & ((swi_df['MONTH'] >=6) | (swi_df['MONTH'] <=9))][['geometry', 'SWI_UNIF_MENS3']].groupby(['geometry']).min().reset_index()\n",
    "    data = data.rename(columns={'SWI_UNIF_MENS3': 'summer_min_swi_'+str(year)})\n",
    "    data= gpd.GeoDataFrame(data, crs=2154)\n",
    "    new_data.append(data)\n",
    "\n",
    "print(\"Merging data\")\n",
    "swi_data = reduce(lambda left, right: pd.merge(left, right, on='geometry'), new_data)\n",
    "swi_data = gpd.GeoDataFrame(swi_data, crs=2154)\n",
    "\n",
    "swi_data['winter_summer_swi_diff'] = abs(swi_data['winter_max_swi'] - swi_data['summer_min_swi'])\n",
    "for year in [2016,2017,2018,2019,2020,2021]:\n",
    "    swi_data['winter_summer_swi_diff_'+str(year)] = abs(swi_data['winter_max_swi_'+str(year)] - swi_data['summer_min_swi_'+str(year)])\n",
    "\n",
    "pyogrio.write_dataframe(swi_data, swi_data_path, layer='swi_data_agg', driver=\"GPKG\")"
   ],
   "metadata": {
    "collapsed": false,
    "ExecuteTime": {
     "end_time": "2024-11-05T08:55:00.953595Z",
     "start_time": "2024-11-05T08:54:55.908171Z"
    }
   },
   "id": "1ecb9b9fe4f88b36",
   "execution_count": 8
  }
 ],
 "metadata": {
  "kernelspec": {
   "display_name": "Python 3",
   "language": "python",
   "name": "python3"
  },
  "language_info": {
   "codemirror_mode": {
    "name": "ipython",
    "version": 2
   },
   "file_extension": ".py",
   "mimetype": "text/x-python",
   "name": "python",
   "nbconvert_exporter": "python",
   "pygments_lexer": "ipython2",
   "version": "2.7.6"
  }
 },
 "nbformat": 4,
 "nbformat_minor": 5
}
