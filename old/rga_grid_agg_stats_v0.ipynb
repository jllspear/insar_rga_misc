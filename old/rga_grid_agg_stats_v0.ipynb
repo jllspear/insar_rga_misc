{
 "cells": [
  {
   "cell_type": "code",
   "execution_count": 1,
   "id": "initial_id",
   "metadata": {
    "collapsed": true,
    "ExecuteTime": {
     "end_time": "2024-10-28T11:49:02.897134Z",
     "start_time": "2024-10-28T11:43:35.852767Z"
    }
   },
   "outputs": [
    {
     "name": "stdout",
     "output_type": "stream",
     "text": [
      "2651968\n"
     ]
    }
   ],
   "source": [
    "import geopandas as gpd\n",
    "import sqlite3\n",
    "import pandas as pd\n",
    "from shapely import wkt\n",
    "import pyogrio\n",
    "from tqdm import tqdm\n",
    "import numpy as np\n",
    "\n",
    "geopackage_path = \"C:/Users/eleonore.kong/Documents/InSAR/DATA/harmonic_egms_data.gpkg\"\n",
    "grid_path = \"C:/Users/eleonore.kong/Documents/InSAR/DATA/grid.gpkg\"\n",
    "grids = ['grid_2km', 'grid_1km', 'grid_500m']\n",
    "grid_to_process = 'grid_500m'\n",
    "output = \"C:/Users/eleonore.kong/Documents/InSAR/DATA/\"\n",
    "\n",
    "df = gpd.read_file(grid_path, layer=grid_to_process)\n",
    "df = df[['id', 'geometry']]\n",
    "print(len(df))"
   ]
  },
  {
   "cell_type": "code",
   "outputs": [],
   "source": [
    "def med_seasonal_amplitude(row, season, stat):\n",
    "    years = [2016,2017,2018,2019,2020,2021]\n",
    "    if season == 'winter':\n",
    "        years = [year-1 for year in years]\n",
    "    columns = ['Detrended Amplitude_' + season + '_' + str(year) + '_' + stat for year in years]\n",
    "    amp = [row[column] for column in columns]\n",
    "    med = np.median(amp)\n",
    "    return med\n",
    "\n",
    "def summer_winter_amplitude_diff_per_yr(row, year, stat):\n",
    "    diff = row['Detrended Amplitude_summer_' + str(year) + '_' + stat] - row['Detrended Amplitude_winter_' + str(year-1) + '_' + stat]\n",
    "    return diff\n",
    "\n",
    "def med_summer_winter_amplitude_diff(row, stat):\n",
    "    years = [2016,2017,2018,2019,2020,2021]\n",
    "    # columns = [column_name + str(year) for year in years]\n",
    "    diffs = [summer_winter_amplitude_diff_per_yr(row, year, stat) for year in years]\n",
    "    med = np.median(diffs)\n",
    "    return med\n",
    "\n",
    "def amplitude_evolution(row, stat):\n",
    "    years = [2016,2017,2018,2019,2020,2021]\n",
    "    columns = ['Detrended Amplitude_' + str(year) + '_' + stat for year in years]\n",
    "    evol = [row[columns[i+1]] - row[columns[i]] for i in range(len(columns)-1)]\n",
    "    med = np.median(evol)\n",
    "    return med\n",
    "\n",
    "def seasonal_amplitude_evolution(row, season, stat):\n",
    "    if season == 'winter':\n",
    "        years = [2015,2016,2017,2018,2019,2020]\n",
    "        columns = ['Detrended Amplitude_' + season + '_' + str(year) + '_' + stat for year in years]\n",
    "    if season == 'summer':\n",
    "        years = [2016,2017,2018,2019,2020,2021]\n",
    "        columns = ['Detrended Amplitude_' + season + '_' + str(year) + '_' + stat for year in years]\n",
    "\n",
    "    evol = [row[columns[i+1]] - row[columns[i]] for i in range(len(columns)-1)]\n",
    "    med = np.median(evol)\n",
    "    return med\n",
    "\n",
    "percentile_75 = lambda x: x.quantile(0.75)"
   ],
   "metadata": {
    "collapsed": false,
    "ExecuteTime": {
     "end_time": "2024-10-28T12:05:33.021688Z",
     "start_time": "2024-10-28T12:05:33.004164Z"
    }
   },
   "id": "45d0dd20a1f6589c",
   "execution_count": 7
  },
  {
   "cell_type": "code",
   "outputs": [
    {
     "name": "stderr",
     "output_type": "stream",
     "text": [
      "100%|██████████| 133/133 [3:00:03<00:00, 81.23s/it] \n"
     ]
    }
   ],
   "source": [
    "i=0\n",
    "chunk_size=20000\n",
    "ids = df['id'].unique()\n",
    "ids_sublists = [ids[i:i + chunk_size] for i in range(0, len(ids), chunk_size)]\n",
    "median_gdf = {}\n",
    "geom = {}\n",
    "\n",
    "for ids_list in tqdm(ids_sublists):\n",
    "    ids_list = tuple(ids_list)\n",
    "    \n",
    "    where_filter = f\"{grid_to_process} IN {ids_list}\"\n",
    "\n",
    "    gdf = pyogrio.read_dataframe(geopackage_path, layer='data', where=where_filter)\n",
    "    # columns_to_keep = [column for column in gdf.columns if 'Detrended' in column]\n",
    "    # columns_to_keep = [column for column in gdf.columns if 'Error' not in column]\n",
    "    # columns_to_keep = [column for column in columns_to_keep if 'Risk' not in column]\n",
    "    # columns_to_keep = [column for column in columns_to_keep if 'Phase' not in column]\n",
    "    # columns_to_keep.extend([grid_to_process, 'geometry'])\n",
    "    # gdf = gdf[columns_to_keep].copy()\n",
    "    \n",
    "    if not gdf.empty :\n",
    "        median_df = gdf.groupby(grid_to_process).agg({ \n",
    "            col : ['median', percentile_75] for col in gdf.select_dtypes(include='number').columns\n",
    "        })\n",
    "        median_df.columns = ['_'.join(col).strip() for col in median_df.columns]\n",
    "        median_df.columns = [col.replace('<lambda_0>', 'p75') for col in median_df.columns]\n",
    "        # median_df.drop(grids, axis=1, inplace=True)\n",
    "        median_df = median_df.drop([col for col in median_df.columns if 'index' in col], axis=1)\n",
    "        median_df = median_df.drop([col for col in median_df.columns if 'grid' in col], axis=1)\n",
    "\n",
    "        median_df = median_df.reset_index()\n",
    "        median_df = median_df.merge(df, left_on=grid_to_process, right_on='id', how='left')\n",
    "        median_df.drop('id', axis=1, inplace=True)\n",
    "        median_df = gpd.GeoDataFrame(median_df, crs=2154)\n",
    "\n",
    "        column_name_diff_per_year = 'summer_winter_amplitude_diff_'\n",
    "\n",
    "        for stat in ('median', 'p75'):\n",
    "            median_df[stat + '_summer_winter_amplitude_diff'] = median_df.apply(lambda row : med_summer_winter_amplitude_diff(row, stat), axis=1)\n",
    "        \n",
    "            # median_df[stat + '_evolution_amplitude'] = median_df.apply(lambda row : amplitude_evolution(row, stat), axis=1)\n",
    "        \n",
    "            # for season in ['summer', 'winter']:\n",
    "            #     median_df[stat + '_' + season + '_amplitude'] = median_df.apply(lambda row : med_seasonal_amplitude(row, season, stat), axis=1)\n",
    "            #     median_df[stat + '_evolution_'+ season +'_amplitude'] = median_df.apply(lambda row : seasonal_amplitude_evolution(row, season, stat), axis=1)\n",
    "        \n",
    "        if i > 0:\n",
    "            pyogrio.write_dataframe(median_df, output + 'grid_stats_agg.gpkg', layer=grid_to_process, driver=\"GPKG\", append=True)\n",
    "        else:\n",
    "            pyogrio.write_dataframe(median_df, output + 'grid_stats_agg.gpkg', layer=grid_to_process, driver=\"GPKG\")\n",
    "\n",
    "    i += 1"
   ],
   "metadata": {
    "collapsed": false,
    "ExecuteTime": {
     "end_time": "2024-10-28T15:05:40.242670Z",
     "start_time": "2024-10-28T12:05:36.726458Z"
    }
   },
   "id": "b4415c72b8a64c18",
   "execution_count": 8
  }
 ],
 "metadata": {
  "kernelspec": {
   "display_name": "Python 3",
   "language": "python",
   "name": "python3"
  },
  "language_info": {
   "codemirror_mode": {
    "name": "ipython",
    "version": 2
   },
   "file_extension": ".py",
   "mimetype": "text/x-python",
   "name": "python",
   "nbconvert_exporter": "python",
   "pygments_lexer": "ipython2",
   "version": "2.7.6"
  }
 },
 "nbformat": 4,
 "nbformat_minor": 5
}
