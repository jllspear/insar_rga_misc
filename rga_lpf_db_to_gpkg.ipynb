{
 "cells": [
  {
   "cell_type": "code",
   "execution_count": 2,
   "id": "initial_id",
   "metadata": {
    "collapsed": true,
    "ExecuteTime": {
     "end_time": "2024-11-20T17:21:34.532163Z",
     "start_time": "2024-11-20T17:21:33.235899Z"
    }
   },
   "outputs": [],
   "source": [
    "import geopandas as gpd\n",
    "import sqlite3\n",
    "\n",
    "import numpy as np\n",
    "import pandas as pd\n",
    "from shapely import wkt\n",
    "import pyogrio\n",
    "from tqdm import tqdm\n",
    "\n",
    "data_raw = \"C:/Users/eleonore.kong/jll.spear/Nicolas Le Corvec - RGA/lowpass_butterworth_data.db\"\n",
    "swi_data = 'C:/Users/eleonore.kong/Documents/InSAR/SWI/SWI_Package_1969-2023.gpkg'\n",
    "geopackage_path = \"C:/Users/eleonore.kong/Documents/InSAR/DATA/lpf_egms_data.gpkg\"\n",
    "# grids = ['grid_1km', 'grid_500m']"
   ]
  },
  {
   "cell_type": "code",
   "outputs": [
    {
     "name": "stdout",
     "output_type": "stream",
     "text": [
      "['lowpass_Butterworth_output_EGMS_L3_E35N30_100km_U', 'lowpass_Butterworth_output_EGMS_L3_E34N30_100km_U', 'lowpass_Butterworth_output_EGMS_L3_E33N27_100km_U', 'lowpass_Butterworth_output_EGMS_L3_E33N23_100km_U', 'lowpass_Butterworth_output_EGMS_L3_E32N28_100km_U', 'lowpass_Butterworth_output_EGMS_L3_E32N29_100km_U', 'lowpass_Butterworth_output_EGMS_L3_E34N29_100km_U', 'lowpass_Butterworth_output_EGMS_L3_E34N25_100km_U', 'lowpass_Butterworth_output_EGMS_L3_E33N29_100km_U', 'lowpass_Butterworth_output_EGMS_L3_E36N30_100km_U', 'lowpass_Butterworth_output_EGMS_L3_E36N26_100km_U', 'lowpass_Butterworth_output_EGMS_L3_E34N26_100km_U', 'lowpass_Butterworth_output_EGMS_L3_E34N24_100km_U', 'lowpass_Butterworth_output_EGMS_L3_E35N23_100km_U', 'lowpass_Butterworth_output_EGMS_L3_E36N25_100km_U', 'lowpass_Butterworth_output_EGMS_L3_E36N28_100km_U', 'lowpass_Butterworth_output_EGMS_L3_E35N29_100km_U', 'lowpass_Butterworth_output_EGMS_L3_E36N22_100km_U', 'lowpass_Butterworth_output_EGMS_L3_E36N27_100km_U', 'lowpass_Butterworth_output_EGMS_L3_E34N23_100km_U', 'lowpass_Butterworth_output_EGMS_L3_E35N25_100km_U', 'lowpass_Butterworth_output_EGMS_L3_E35N26_100km_U', 'lowpass_Butterworth_output_EGMS_L3_E36N24_100km_U', 'lowpass_Butterworth_output_EGMS_L3_E33N28_100km_U', 'lowpass_Butterworth_output_EGMS_L3_E35N27_100km_U', 'lowpass_Butterworth_output_EGMS_L3_E35N28_100km_U', 'lowpass_Butterworth_output_EGMS_L3_E34N22_100km_U', 'lowpass_Butterworth_output_EGMS_L3_E35N22_100km_U', 'lowpass_Butterworth_output_EGMS_L3_E35N24_100km_U', 'lowpass_Butterworth_output_EGMS_L3_E37N26_100km_U', 'lowpass_Butterworth_output_EGMS_L3_E38N22_100km_U', 'lowpass_Butterworth_output_EGMS_L3_E34N28_100km_U', 'lowpass_Butterworth_output_EGMS_L3_E37N25_100km_U', 'lowpass_Butterworth_output_EGMS_L3_E37N31_100km_U', 'lowpass_Butterworth_output_EGMS_L3_E37N27_100km_U', 'lowpass_Butterworth_output_EGMS_L3_E37N24_100km_U', 'lowpass_Butterworth_output_EGMS_L3_E34N27_100km_U', 'lowpass_Butterworth_output_EGMS_L3_E36N23_100km_U', 'lowpass_Butterworth_output_EGMS_L3_E38N27_100km_U', 'lowpass_Butterworth_output_EGMS_L3_E36N21_100km_U', 'lowpass_Butterworth_output_EGMS_L3_E36N29_100km_U', 'lowpass_Butterworth_output_EGMS_L3_E37N21_100km_U', 'lowpass_Butterworth_output_EGMS_L3_E38N26_100km_U', 'lowpass_Butterworth_output_EGMS_L3_E38N28_100km_U', 'lowpass_Butterworth_output_EGMS_L3_E37N30_100km_U', 'lowpass_Butterworth_output_EGMS_L3_E33N22_100km_U', 'lowpass_Butterworth_output_EGMS_L3_E41N22_100km_U', 'lowpass_Butterworth_output_EGMS_L3_E39N27_100km_U', 'lowpass_Butterworth_output_EGMS_L3_E39N28_100km_U', 'lowpass_Butterworth_output_EGMS_L3_E39N29_100km_U', 'lowpass_Butterworth_output_EGMS_L3_E38N29_100km_U', 'lowpass_Butterworth_output_EGMS_L3_E38N24_100km_U', 'lowpass_Butterworth_output_EGMS_L3_E40N26_100km_U', 'lowpass_Butterworth_output_EGMS_L3_E37N29_100km_U', 'lowpass_Butterworth_output_EGMS_L3_E38N25_100km_U', 'lowpass_Butterworth_output_EGMS_L3_E37N23_100km_U', 'lowpass_Butterworth_output_EGMS_L3_E39N26_100km_U', 'lowpass_Butterworth_output_EGMS_L3_E40N24_100km_U', 'lowpass_Butterworth_output_EGMS_L3_E40N27_100km_U', 'lowpass_Butterworth_output_EGMS_L3_E40N28_100km_U', 'lowpass_Butterworth_output_EGMS_L3_E40N25_100km_U', 'lowpass_Butterworth_output_EGMS_L3_E41N25_100km_U', 'lowpass_Butterworth_output_EGMS_L3_E37N28_100km_U', 'lowpass_Butterworth_output_EGMS_L3_E39N24_100km_U', 'lowpass_Butterworth_output_EGMS_L3_E37N22_100km_U', 'lowpass_Butterworth_output_EGMS_L3_E35N21_100km_U', 'lowpass_Butterworth_output_EGMS_L3_E38N31_100km_U', 'lowpass_Butterworth_output_EGMS_L3_E40N29_100km_U', 'lowpass_Butterworth_output_EGMS_L3_E41N27_100km_U', 'lowpass_Butterworth_output_EGMS_L3_E41N23_100km_U', 'lowpass_Butterworth_output_EGMS_L3_E39N25_100km_U', 'lowpass_Butterworth_output_EGMS_L3_E41N28_100km_U', 'lowpass_Butterworth_output_EGMS_L3_E40N22_100km_U', 'lowpass_Butterworth_output_EGMS_L3_E40N23_100km_U', 'lowpass_Butterworth_output_EGMS_L3_E38N30_100km_U', 'lowpass_Butterworth_output_EGMS_L3_E39N22_100km_U', 'lowpass_Butterworth_output_EGMS_L3_E39N30_100km_U', 'lowpass_Butterworth_output_EGMS_L3_E39N23_100km_U', 'lowpass_Butterworth_output_EGMS_L3_E38N23_100km_U', 'lowpass_Butterworth_output_EGMS_L3_E41N24_100km_U', 'lowpass_Butterworth_output_EGMS_L3_E39N31_100km_U']\n"
     ]
    }
   ],
   "source": [
    "# Connect to the SQLite database\n",
    "conn = sqlite3.connect(data_raw)\n",
    "\n",
    "query = \"SELECT name FROM sqlite_master WHERE type='table';\"\n",
    "\n",
    "# Execute the query and get the table names\n",
    "tables = pd.read_sql_query(query, conn)\n",
    "gdf_swi = pyogrio.read_dataframe(swi_data, layer='data_swi_peak_trough')\n",
    "gdf_swi = gdf_swi.drop(['SWI_UNIF_MENS3_trough', 'SWI_UNIF_MENS3_peak'], axis=1)\n",
    "gdf_swi.columns = gdf_swi.columns.str.lower()\n",
    "\n",
    "rga_df = pyogrio.read_dataframe(\"C:/Users/eleonore.kong/Documents/InSAR/ARGILES/Risk_ARG.gpkg\")\n",
    "rga_df['NIVEAU'] = rga_df['NIVEAU'].fillna(0)\n",
    "\n",
    "tables_list = tables['name'].tolist()\n",
    "print(tables_list)"
   ],
   "metadata": {
    "collapsed": false,
    "ExecuteTime": {
     "end_time": "2024-11-20T17:21:39.461552Z",
     "start_time": "2024-11-20T17:21:34.935974Z"
    }
   },
   "id": "45ce886e44ade40e",
   "execution_count": 3
  },
  {
   "cell_type": "code",
   "outputs": [
    {
     "data": {
      "text/plain": "'lowpass_Butterworth_output_EGMS_L3_E35N21_100km_U'"
     },
     "execution_count": 4,
     "metadata": {},
     "output_type": "execute_result"
    }
   ],
   "source": [
    "tables_list[65]"
   ],
   "metadata": {
    "collapsed": false,
    "ExecuteTime": {
     "end_time": "2024-11-20T17:21:40.301696Z",
     "start_time": "2024-11-20T17:21:40.285323Z"
    }
   },
   "id": "ca018e7658db7372",
   "execution_count": 4
  },
  {
   "cell_type": "code",
   "outputs": [
    {
     "name": "stdout",
     "output_type": "stream",
     "text": [
      "Found 81 tables\n"
     ]
    },
    {
     "name": "stderr",
     "output_type": "stream",
     "text": [
      "100%|██████████| 16/16 [4:21:29<00:00, 980.57s/it]   \n"
     ]
    }
   ],
   "source": [
    "# Query the table\n",
    "print('Found {} tables'.format(len(tables_list)))\n",
    "i=1\n",
    "\n",
    "for table_name in tqdm(tables_list[65:]):\n",
    "\n",
    "    query = \"SELECT * FROM \" + table_name \n",
    "\n",
    "    # Read the data into a Pandas DataFrame\n",
    "    df = pd.read_sql_query(query, conn)\n",
    "    df.sort_values(by=['pid', 'Date'])\n",
    "    df['Date'] = pd.to_datetime(df['Date'])\n",
    "    df['year'] = df['Date'].dt.year\n",
    "    df['month'] = df['Date'].dt.month\n",
    "    df['time_gap'] = df['Date'].diff().apply(lambda x: x / pd.Timedelta(days=30))\n",
    "    season_maper = {1:'winter', 2:'winter', 3:'winter', 4:'winter', 5:'inter',\n",
    "                    6:'summer', 7:'summer', 8:'summer', 9:'summer', \n",
    "                    10:'summer', 11:'inter', 12:'winter'}\n",
    "    df['season'] = df['month'].map(season_maper)\n",
    "\n",
    "    df.loc[df['time_gap'] < 0, 'time_gap'] = np.nan\n",
    "    stats = df[['pid', 'time_gap']].groupby('pid').median().reset_index()\n",
    "    stats = stats[(stats['time_gap'] >= 4) & (stats['time_gap'] <= 7)]\n",
    "    pid_list = stats['pid'].unique()\n",
    "    df = df[df['pid'].isin(pid_list)]\n",
    "    df['value_diff'] = df['Value'].diff()\n",
    "    df.loc[df['time_gap'].isna(), 'value_diff'] = np.nan\n",
    "    \n",
    "    stats = df[['pid', 'Type', 'season', 'Value']].groupby(['pid', 'Type', 'season']).count()\n",
    "    stats = stats.unstack(['Type', 'season'])\n",
    "    stats.columns = [f'{season}_{type}' for value, season, type in stats.columns]\n",
    "    stats.reset_index(inplace=True)\n",
    "    stats['is_rga'] = (stats['Peak_winter'] > 4) & (stats['Trough_summer'] > 4)\n",
    "    is_rga_maper = dict(zip(stats['pid'], stats['is_rga']))\n",
    "    df['is_rga'] = df['pid'].map(is_rga_maper)\n",
    "    # df.drop('Date', axis=1, inplace=True)\n",
    "\n",
    "    # df = df[df['is_rga'] == True]\n",
    "    df.reset_index(inplace=True)\n",
    "    df.loc[df['month'] == 12, 'year'] = df['year'] + 1\n",
    "    df['value_type'] = df['season'] +'_'+ df['year'].astype(str)\n",
    "    # keep = (df['season'] == 'winter') & (df['Type'] == 'Peak') | (df['season'] == 'summer') & (df['Type'] == 'Trough')\n",
    "    df['value_diff_abs'] = abs(df['value_diff'])\n",
    "    # df = df[keep]\n",
    "\n",
    "    # Convert to a GeoDataFrame\n",
    "    df['geometry'] = df['geometry'].apply(wkt.loads)\n",
    "    gdf = gpd.GeoDataFrame(df, geometry='geometry', crs='EPSG:4326').to_crs(epsg='2154')\n",
    "    gdf = gdf.reset_index(drop=True)\n",
    "    \n",
    "    link_insar_swi = gdf[['geometry']].sjoin(gdf_swi)\n",
    "    if len(link_insar_swi) > 0:\n",
    "        link_insar_swi.drop('index_right', axis=1, inplace=True)\n",
    "        gdf = gdf.merge(link_insar_swi, on=['geometry', 'year'])\n",
    "        gdf = gdf.drop_duplicates()\n",
    "        gdf['gap_insar_swi_trough'] = gdf['month'] - gdf['month_trough']\n",
    "        gdf['gap_insar_swi_peak'] = gdf['month'] - gdf['month_peak']\n",
    "        gdf['is_swi_close'] = (gdf['gap_insar_swi_trough'] >= -2) & (gdf['gap_insar_swi_trough'] <= 2) & (gdf['Type'] == 'Trough') | (gdf['gap_insar_swi_peak'] >= -2) & (gdf['gap_insar_swi_peak'] <= 2) & (gdf['Type'] == 'Peak')\n",
    "        stats = gdf[['pid', 'is_swi_close', 'gap_insar_swi_trough']].groupby(['pid', 'is_swi_close']).count()\n",
    "        stats = stats.unstack(['is_swi_close'])\n",
    "        stats.columns = [f'{type}' for _, type in stats.columns]\n",
    "        stats.reset_index(inplace=True)\n",
    "        stats['is_swi_close'] = (stats['True'] > stats['False'])\n",
    "        is_swi_close_maper = dict(zip(stats['pid'], stats['is_swi_close']))\n",
    "        gdf['is_swi_close'] = gdf['pid'].map(is_swi_close_maper)\n",
    "    \n",
    "        gdf = gdf.sjoin(rga_df[['geometry', 'NIVEAU']], how='left')\n",
    "    \n",
    "        if i == 0:\n",
    "            pyogrio.write_dataframe(gdf, geopackage_path, layer=\"data_all\", driver=\"GPKG\")\n",
    "        else:\n",
    "            pyogrio.write_dataframe(gdf, geopackage_path, layer=\"data_all\", driver=\"GPKG\", append=True)\n",
    "    \n",
    "    else:\n",
    "        continue\n",
    "    i+=1\n",
    "\n",
    "    \n",
    "# Close the connection\n",
    "conn.close()"
   ],
   "metadata": {
    "collapsed": false,
    "ExecuteTime": {
     "end_time": "2024-11-20T21:43:13.450583Z",
     "start_time": "2024-11-20T17:21:44.208192Z"
    }
   },
   "id": "54b92b1f792a83eb",
   "execution_count": 5
  }
 ],
 "metadata": {
  "kernelspec": {
   "display_name": "Python 3",
   "language": "python",
   "name": "python3"
  },
  "language_info": {
   "codemirror_mode": {
    "name": "ipython",
    "version": 2
   },
   "file_extension": ".py",
   "mimetype": "text/x-python",
   "name": "python",
   "nbconvert_exporter": "python",
   "pygments_lexer": "ipython2",
   "version": "2.7.6"
  }
 },
 "nbformat": 4,
 "nbformat_minor": 5
}
