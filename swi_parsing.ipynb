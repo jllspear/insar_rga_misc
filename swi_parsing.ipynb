{
 "cells": [
  {
   "cell_type": "code",
   "execution_count": 5,
   "id": "initial_id",
   "metadata": {
    "collapsed": true,
    "ExecuteTime": {
     "end_time": "2024-10-23T13:51:39.805065Z",
     "start_time": "2024-10-23T13:51:39.792800Z"
    }
   },
   "outputs": [
    {
     "name": "stdout",
     "output_type": "stream",
     "text": [
      "['C:/Users/eleonore.kong/Documents/InSAR/SWI/SWI_Package_1969-2023\\\\swi.0-249.csv', 'C:/Users/eleonore.kong/Documents/InSAR/SWI/SWI_Package_1969-2023\\\\swi.1000-1249.csv', 'C:/Users/eleonore.kong/Documents/InSAR/SWI/SWI_Package_1969-2023\\\\swi.1250-1499.csv', 'C:/Users/eleonore.kong/Documents/InSAR/SWI/SWI_Package_1969-2023\\\\swi.1500-1749.csv', 'C:/Users/eleonore.kong/Documents/InSAR/SWI/SWI_Package_1969-2023\\\\swi.1750-1999.csv', 'C:/Users/eleonore.kong/Documents/InSAR/SWI/SWI_Package_1969-2023\\\\swi.2000-2249.csv', 'C:/Users/eleonore.kong/Documents/InSAR/SWI/SWI_Package_1969-2023\\\\swi.2250-2499.csv', 'C:/Users/eleonore.kong/Documents/InSAR/SWI/SWI_Package_1969-2023\\\\swi.250-499.csv', 'C:/Users/eleonore.kong/Documents/InSAR/SWI/SWI_Package_1969-2023\\\\swi.2500-2749.csv', 'C:/Users/eleonore.kong/Documents/InSAR/SWI/SWI_Package_1969-2023\\\\swi.2750-2999.csv', 'C:/Users/eleonore.kong/Documents/InSAR/SWI/SWI_Package_1969-2023\\\\swi.3000-3249.csv', 'C:/Users/eleonore.kong/Documents/InSAR/SWI/SWI_Package_1969-2023\\\\swi.3250-3499.csv', 'C:/Users/eleonore.kong/Documents/InSAR/SWI/SWI_Package_1969-2023\\\\swi.3500-3749.csv', 'C:/Users/eleonore.kong/Documents/InSAR/SWI/SWI_Package_1969-2023\\\\swi.3750-3999.csv', 'C:/Users/eleonore.kong/Documents/InSAR/SWI/SWI_Package_1969-2023\\\\swi.4000-4249.csv', 'C:/Users/eleonore.kong/Documents/InSAR/SWI/SWI_Package_1969-2023\\\\swi.4250-4499.csv', 'C:/Users/eleonore.kong/Documents/InSAR/SWI/SWI_Package_1969-2023\\\\swi.4500-4749.csv', 'C:/Users/eleonore.kong/Documents/InSAR/SWI/SWI_Package_1969-2023\\\\swi.4750-4999.csv', 'C:/Users/eleonore.kong/Documents/InSAR/SWI/SWI_Package_1969-2023\\\\swi.500-749.csv', 'C:/Users/eleonore.kong/Documents/InSAR/SWI/SWI_Package_1969-2023\\\\swi.5000-5249.csv', 'C:/Users/eleonore.kong/Documents/InSAR/SWI/SWI_Package_1969-2023\\\\swi.5250-5499.csv', 'C:/Users/eleonore.kong/Documents/InSAR/SWI/SWI_Package_1969-2023\\\\swi.5500-5749.csv', 'C:/Users/eleonore.kong/Documents/InSAR/SWI/SWI_Package_1969-2023\\\\swi.5750-5999.csv', 'C:/Users/eleonore.kong/Documents/InSAR/SWI/SWI_Package_1969-2023\\\\swi.6000-6249.csv', 'C:/Users/eleonore.kong/Documents/InSAR/SWI/SWI_Package_1969-2023\\\\swi.6250-6499.csv', 'C:/Users/eleonore.kong/Documents/InSAR/SWI/SWI_Package_1969-2023\\\\swi.6500-6749.csv', 'C:/Users/eleonore.kong/Documents/InSAR/SWI/SWI_Package_1969-2023\\\\swi.6750-6999.csv', 'C:/Users/eleonore.kong/Documents/InSAR/SWI/SWI_Package_1969-2023\\\\swi.7000-7249.csv', 'C:/Users/eleonore.kong/Documents/InSAR/SWI/SWI_Package_1969-2023\\\\swi.7250-7499.csv', 'C:/Users/eleonore.kong/Documents/InSAR/SWI/SWI_Package_1969-2023\\\\swi.750-999.csv', 'C:/Users/eleonore.kong/Documents/InSAR/SWI/SWI_Package_1969-2023\\\\swi.7500-7749.csv', 'C:/Users/eleonore.kong/Documents/InSAR/SWI/SWI_Package_1969-2023\\\\swi.7750-7999.csv', 'C:/Users/eleonore.kong/Documents/InSAR/SWI/SWI_Package_1969-2023\\\\swi.8000-8249.csv', 'C:/Users/eleonore.kong/Documents/InSAR/SWI/SWI_Package_1969-2023\\\\swi.8250-8499.csv', 'C:/Users/eleonore.kong/Documents/InSAR/SWI/SWI_Package_1969-2023\\\\swi.8500-8749.csv', 'C:/Users/eleonore.kong/Documents/InSAR/SWI/SWI_Package_1969-2023\\\\swi.8750-8999.csv', 'C:/Users/eleonore.kong/Documents/InSAR/SWI/SWI_Package_1969-2023\\\\swi.9000-9249.csv', 'C:/Users/eleonore.kong/Documents/InSAR/SWI/SWI_Package_1969-2023\\\\swi.9250-9499.csv', 'C:/Users/eleonore.kong/Documents/InSAR/SWI/SWI_Package_1969-2023\\\\swi.9500-9749.csv', 'C:/Users/eleonore.kong/Documents/InSAR/SWI/SWI_Package_1969-2023\\\\swi.9750-9999.csv']\n"
     ]
    }
   ],
   "source": [
    "import pyogrio\n",
    "import geopandas as gpd\n",
    "import os\n",
    "from tqdm import tqdm\n",
    "\n",
    "folder_path = 'C:/Users/eleonore.kong/Documents/InSAR/SWI/SWI_Package_1969-2023'\n",
    "geopackage_path = 'C:/Users/eleonore.kong/Documents/InSAR/SWI/SWI_Package_1969-2023.gpkg'\n",
    "csv_files = [os.path.join(folder_path, f) for f in os.listdir(folder_path) if f.endswith('.csv') and os.path.isfile(os.path.join(folder_path, f))]\n",
    "print(csv_files)"
   ]
  },
  {
   "cell_type": "code",
   "outputs": [
    {
     "name": "stderr",
     "output_type": "stream",
     "text": [
      "100%|██████████| 40/40 [01:25<00:00,  2.14s/it]\n"
     ]
    }
   ],
   "source": [
    "i=0\n",
    "for path in tqdm(csv_files):\n",
    "    df = pyogrio.read_dataframe(path)\n",
    "    gdf = gpd.GeoDataFrame(\n",
    "        df, geometry=gpd.points_from_xy(df.LAMBX, df.LAMBY), crs=2154\n",
    "    )\n",
    "    gdf['YEAR'] = gdf['DATE'].str[:4].astype(int)\n",
    "    gdf['MONTH'] = gdf['DATE'].str[4:].astype(int)\n",
    "    gdf['SWI_UNIF_MENS3'] = gdf['SWI_UNIF_MENS3'].str.replace(',','.').astype(float)\n",
    "    gdf = gdf.drop(['NUMERO','LAMBX', 'LAMBY', 'DATE'], axis=1)\n",
    "    gdf = gdf[gdf['YEAR'] >= 2014]\n",
    "\n",
    "    if i == 0:\n",
    "        pyogrio.write_dataframe(gdf, geopackage_path, layer=\"data_swi\", driver=\"GPKG\")\n",
    "    else:\n",
    "        pyogrio.write_dataframe(gdf, geopackage_path, layer=\"data_swi\", driver=\"GPKG\", append=True)\n",
    "    \n",
    "    i+=1"
   ],
   "metadata": {
    "collapsed": false,
    "ExecuteTime": {
     "end_time": "2024-10-23T13:54:04.525499Z",
     "start_time": "2024-10-23T13:52:38.945184Z"
    }
   },
   "id": "19e863dd1b8a7906",
   "execution_count": 10
  }
 ],
 "metadata": {
  "kernelspec": {
   "display_name": "Python 3",
   "language": "python",
   "name": "python3"
  },
  "language_info": {
   "codemirror_mode": {
    "name": "ipython",
    "version": 2
   },
   "file_extension": ".py",
   "mimetype": "text/x-python",
   "name": "python",
   "nbconvert_exporter": "python",
   "pygments_lexer": "ipython2",
   "version": "2.7.6"
  }
 },
 "nbformat": 4,
 "nbformat_minor": 5
}
