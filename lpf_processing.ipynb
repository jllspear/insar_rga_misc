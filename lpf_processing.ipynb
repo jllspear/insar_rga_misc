{
 "cells": [
  {
   "cell_type": "code",
   "execution_count": 1,
   "id": "initial_id",
   "metadata": {
    "collapsed": true,
    "ExecuteTime": {
     "end_time": "2024-11-28T13:28:49.313188Z",
     "start_time": "2024-11-28T13:28:44.114826Z"
    }
   },
   "outputs": [],
   "source": [
    "import geopandas as gpd\n",
    "import matplotlib.pyplot as plt\n",
    "\n",
    "import numpy as np\n",
    "import pandas as pd\n",
    "from shapely import wkt\n",
    "import pyogrio\n",
    "from tqdm import tqdm\n",
    "\n",
    "geopackage_path = \"C:/Users/eleonore.kong/Documents/InSAR/DATA/lpf_egms_data.gpkg\"\n",
    "n = 19829367\n",
    "size = 200000\n",
    "chunks = round(n/size) + 1\n",
    "skip=0"
   ]
  },
  {
   "cell_type": "code",
   "outputs": [],
   "source": [
    "df = pyogrio.read_dataframe(geopackage_path, layer='data_rga', max_features=100000)"
   ],
   "metadata": {
    "collapsed": false,
    "ExecuteTime": {
     "end_time": "2024-11-28T13:40:04.798331Z",
     "start_time": "2024-11-28T13:28:51.906578Z"
    }
   },
   "id": "7f403ff2b30fee91",
   "execution_count": 2
  },
  {
   "cell_type": "code",
   "outputs": [
    {
     "data": {
      "text/plain": "                pid   value_type     Value  year  month  time_gap  value_diff  \\\n0        10S39QasDg  winter_2016  0.715249  2016      3       NaN         NaN   \n1        10S39QasDg  winter_2017  0.716117  2017      2       6.2      13.625   \n2        10S39QasDg  winter_2018  0.716851  2018      3       6.4       9.760   \n3        10S39QasDg  winter_2019  0.719545  2019      2       5.8      11.561   \n4        10S39QasDg  winter_2020  0.718671  2020      2       6.2       9.406   \n...             ...          ...       ...   ...    ...       ...         ...   \n8339267  40cEO62jrK  summer_2017  0.705187  2017      7       5.6      -5.445   \n8339268  40cEO62jrK  summer_2018  0.706779  2018      8       6.6      -4.550   \n8339269  40cEO62jrK  summer_2019  0.706941  2019      7       6.0      -5.070   \n8339270  40cEO62jrK  summer_2020  0.704854  2020      6       6.0      -6.510   \n8339271  40cEO62jrK  summer_2021  0.705885  2021      7       5.0      -3.358   \n\n         is_rga  value_diff_abs  month_trough  ...  gap_insar_swi_trough  \\\n0          True             NaN             9  ...                   NaN   \n1          True          13.625             8  ...                   NaN   \n2          True           9.760             9  ...                   NaN   \n3          True          11.561             8  ...                   NaN   \n4          True           9.406             9  ...                   NaN   \n...         ...             ...           ...  ...                   ...   \n8339267    True           5.445             8  ...                  -1.0   \n8339268    True           4.550             8  ...                   0.0   \n8339269    True           5.070             9  ...                  -2.0   \n8339270    True           6.510             8  ...                  -2.0   \n8339271    True           3.358            10  ...                  -3.0   \n\n         gap_insar_swi_peak  is_swi_close  NIVEAU  value_diff_abs_denorm  \\\n0                      -9.0          True     2.0                    NaN   \n1                       1.0          True     2.0              11.560520   \n2                       0.0          True     2.0               8.281150   \n3                     -10.0          True     2.0               9.809260   \n4                       1.0          True     2.0               7.980789   \n...                     ...           ...     ...                    ...   \n8339267                 NaN          True     0.0               4.619966   \n8339268                 NaN          True     0.0               3.860577   \n8339269                 NaN          True     0.0               4.301786   \n8339270                 NaN          True     0.0               5.523595   \n8339271                 NaN          True     0.0               2.849191   \n\n         median_value_diff_abs_2016_2021  \\\n0                                   9.76   \n1                                   9.76   \n2                                   9.76   \n3                                   9.76   \n4                                   9.76   \n...                                  ...   \n8339267                             5.07   \n8339268                             5.07   \n8339269                             5.07   \n8339270                             5.07   \n8339271                             5.07   \n\n         median_value_diff_abs_denorm_2016_2021  gap_insar_swi_trough_days  \\\n0                                      8.281150                        NaN   \n1                                      8.281150                        NaN   \n2                                      8.281150                        NaN   \n3                                      8.281150                        NaN   \n4                                      8.281150                        NaN   \n...                                         ...                        ...   \n8339267                                4.301786                      -28.0   \n8339268                                4.301786                        0.0   \n8339269                                4.301786                      -51.0   \n8339270                                4.301786                      -38.0   \n8339271                                4.301786                      -86.0   \n\n         gap_insar_swi_peak_days  amp_diff_to_median  \n0                         -253.0                 NaN  \n1                           27.0            3.279370  \n2                            0.0            0.000000  \n3                         -298.0            1.528110  \n4                            0.0           -0.300361  \n...                          ...                 ...  \n8339267                      NaN            0.318179  \n8339268                      NaN           -0.441209  \n8339269                      NaN            0.000000  \n8339270                      NaN            1.221809  \n8339271                      NaN           -1.452595  \n\n[16399990 rows x 21 columns]",
      "text/html": "<div>\n<style scoped>\n    .dataframe tbody tr th:only-of-type {\n        vertical-align: middle;\n    }\n\n    .dataframe tbody tr th {\n        vertical-align: top;\n    }\n\n    .dataframe thead th {\n        text-align: right;\n    }\n</style>\n<table border=\"1\" class=\"dataframe\">\n  <thead>\n    <tr style=\"text-align: right;\">\n      <th></th>\n      <th>pid</th>\n      <th>value_type</th>\n      <th>Value</th>\n      <th>year</th>\n      <th>month</th>\n      <th>time_gap</th>\n      <th>value_diff</th>\n      <th>is_rga</th>\n      <th>value_diff_abs</th>\n      <th>month_trough</th>\n      <th>...</th>\n      <th>gap_insar_swi_trough</th>\n      <th>gap_insar_swi_peak</th>\n      <th>is_swi_close</th>\n      <th>NIVEAU</th>\n      <th>value_diff_abs_denorm</th>\n      <th>median_value_diff_abs_2016_2021</th>\n      <th>median_value_diff_abs_denorm_2016_2021</th>\n      <th>gap_insar_swi_trough_days</th>\n      <th>gap_insar_swi_peak_days</th>\n      <th>amp_diff_to_median</th>\n    </tr>\n  </thead>\n  <tbody>\n    <tr>\n      <th>0</th>\n      <td>10S39QasDg</td>\n      <td>winter_2016</td>\n      <td>0.715249</td>\n      <td>2016</td>\n      <td>3</td>\n      <td>NaN</td>\n      <td>NaN</td>\n      <td>True</td>\n      <td>NaN</td>\n      <td>9</td>\n      <td>...</td>\n      <td>NaN</td>\n      <td>-9.0</td>\n      <td>True</td>\n      <td>2.0</td>\n      <td>NaN</td>\n      <td>9.76</td>\n      <td>8.281150</td>\n      <td>NaN</td>\n      <td>-253.0</td>\n      <td>NaN</td>\n    </tr>\n    <tr>\n      <th>1</th>\n      <td>10S39QasDg</td>\n      <td>winter_2017</td>\n      <td>0.716117</td>\n      <td>2017</td>\n      <td>2</td>\n      <td>6.2</td>\n      <td>13.625</td>\n      <td>True</td>\n      <td>13.625</td>\n      <td>8</td>\n      <td>...</td>\n      <td>NaN</td>\n      <td>1.0</td>\n      <td>True</td>\n      <td>2.0</td>\n      <td>11.560520</td>\n      <td>9.76</td>\n      <td>8.281150</td>\n      <td>NaN</td>\n      <td>27.0</td>\n      <td>3.279370</td>\n    </tr>\n    <tr>\n      <th>2</th>\n      <td>10S39QasDg</td>\n      <td>winter_2018</td>\n      <td>0.716851</td>\n      <td>2018</td>\n      <td>3</td>\n      <td>6.4</td>\n      <td>9.760</td>\n      <td>True</td>\n      <td>9.760</td>\n      <td>9</td>\n      <td>...</td>\n      <td>NaN</td>\n      <td>0.0</td>\n      <td>True</td>\n      <td>2.0</td>\n      <td>8.281150</td>\n      <td>9.76</td>\n      <td>8.281150</td>\n      <td>NaN</td>\n      <td>0.0</td>\n      <td>0.000000</td>\n    </tr>\n    <tr>\n      <th>3</th>\n      <td>10S39QasDg</td>\n      <td>winter_2019</td>\n      <td>0.719545</td>\n      <td>2019</td>\n      <td>2</td>\n      <td>5.8</td>\n      <td>11.561</td>\n      <td>True</td>\n      <td>11.561</td>\n      <td>8</td>\n      <td>...</td>\n      <td>NaN</td>\n      <td>-10.0</td>\n      <td>True</td>\n      <td>2.0</td>\n      <td>9.809260</td>\n      <td>9.76</td>\n      <td>8.281150</td>\n      <td>NaN</td>\n      <td>-298.0</td>\n      <td>1.528110</td>\n    </tr>\n    <tr>\n      <th>4</th>\n      <td>10S39QasDg</td>\n      <td>winter_2020</td>\n      <td>0.718671</td>\n      <td>2020</td>\n      <td>2</td>\n      <td>6.2</td>\n      <td>9.406</td>\n      <td>True</td>\n      <td>9.406</td>\n      <td>9</td>\n      <td>...</td>\n      <td>NaN</td>\n      <td>1.0</td>\n      <td>True</td>\n      <td>2.0</td>\n      <td>7.980789</td>\n      <td>9.76</td>\n      <td>8.281150</td>\n      <td>NaN</td>\n      <td>0.0</td>\n      <td>-0.300361</td>\n    </tr>\n    <tr>\n      <th>...</th>\n      <td>...</td>\n      <td>...</td>\n      <td>...</td>\n      <td>...</td>\n      <td>...</td>\n      <td>...</td>\n      <td>...</td>\n      <td>...</td>\n      <td>...</td>\n      <td>...</td>\n      <td>...</td>\n      <td>...</td>\n      <td>...</td>\n      <td>...</td>\n      <td>...</td>\n      <td>...</td>\n      <td>...</td>\n      <td>...</td>\n      <td>...</td>\n      <td>...</td>\n      <td>...</td>\n    </tr>\n    <tr>\n      <th>8339267</th>\n      <td>40cEO62jrK</td>\n      <td>summer_2017</td>\n      <td>0.705187</td>\n      <td>2017</td>\n      <td>7</td>\n      <td>5.6</td>\n      <td>-5.445</td>\n      <td>True</td>\n      <td>5.445</td>\n      <td>8</td>\n      <td>...</td>\n      <td>-1.0</td>\n      <td>NaN</td>\n      <td>True</td>\n      <td>0.0</td>\n      <td>4.619966</td>\n      <td>5.07</td>\n      <td>4.301786</td>\n      <td>-28.0</td>\n      <td>NaN</td>\n      <td>0.318179</td>\n    </tr>\n    <tr>\n      <th>8339268</th>\n      <td>40cEO62jrK</td>\n      <td>summer_2018</td>\n      <td>0.706779</td>\n      <td>2018</td>\n      <td>8</td>\n      <td>6.6</td>\n      <td>-4.550</td>\n      <td>True</td>\n      <td>4.550</td>\n      <td>8</td>\n      <td>...</td>\n      <td>0.0</td>\n      <td>NaN</td>\n      <td>True</td>\n      <td>0.0</td>\n      <td>3.860577</td>\n      <td>5.07</td>\n      <td>4.301786</td>\n      <td>0.0</td>\n      <td>NaN</td>\n      <td>-0.441209</td>\n    </tr>\n    <tr>\n      <th>8339269</th>\n      <td>40cEO62jrK</td>\n      <td>summer_2019</td>\n      <td>0.706941</td>\n      <td>2019</td>\n      <td>7</td>\n      <td>6.0</td>\n      <td>-5.070</td>\n      <td>True</td>\n      <td>5.070</td>\n      <td>9</td>\n      <td>...</td>\n      <td>-2.0</td>\n      <td>NaN</td>\n      <td>True</td>\n      <td>0.0</td>\n      <td>4.301786</td>\n      <td>5.07</td>\n      <td>4.301786</td>\n      <td>-51.0</td>\n      <td>NaN</td>\n      <td>0.000000</td>\n    </tr>\n    <tr>\n      <th>8339270</th>\n      <td>40cEO62jrK</td>\n      <td>summer_2020</td>\n      <td>0.704854</td>\n      <td>2020</td>\n      <td>6</td>\n      <td>6.0</td>\n      <td>-6.510</td>\n      <td>True</td>\n      <td>6.510</td>\n      <td>8</td>\n      <td>...</td>\n      <td>-2.0</td>\n      <td>NaN</td>\n      <td>True</td>\n      <td>0.0</td>\n      <td>5.523595</td>\n      <td>5.07</td>\n      <td>4.301786</td>\n      <td>-38.0</td>\n      <td>NaN</td>\n      <td>1.221809</td>\n    </tr>\n    <tr>\n      <th>8339271</th>\n      <td>40cEO62jrK</td>\n      <td>summer_2021</td>\n      <td>0.705885</td>\n      <td>2021</td>\n      <td>7</td>\n      <td>5.0</td>\n      <td>-3.358</td>\n      <td>True</td>\n      <td>3.358</td>\n      <td>10</td>\n      <td>...</td>\n      <td>-3.0</td>\n      <td>NaN</td>\n      <td>True</td>\n      <td>0.0</td>\n      <td>2.849191</td>\n      <td>5.07</td>\n      <td>4.301786</td>\n      <td>-86.0</td>\n      <td>NaN</td>\n      <td>-1.452595</td>\n    </tr>\n  </tbody>\n</table>\n<p>16399990 rows × 21 columns</p>\n</div>"
     },
     "execution_count": 5,
     "metadata": {},
     "output_type": "execute_result"
    }
   ],
   "source": [
    "winter = df[df['season']=='winter'].groupby(['pid', 'value_type']).max('value_diff_abs_denorm').reset_index()\n",
    "summer = df[df['season']=='summer'].groupby(['pid', 'value_type']).min('value_diff_abs_denorm').reset_index()\n",
    "data = pd.concat([winter, summer], axis=0)\n",
    "# data.drop(['value_diff_abs'], axis=1, inplace=True)\n",
    "# data = data.merge(df[['geometry', 'Type', 'Burst ID', 'season','Date']], on='pid', how='left')\n",
    "# data.sort_values(by=['pid', 'Date'], inplace=True)\n",
    "# data['value_diff'] = data['Value'].diff()\n",
    "# data.loc[data['time_gap']<1, 'value_diff'] = np.nan\n",
    "# data.reset_index(inplace=True, drop=True)\n",
    "data"
   ],
   "metadata": {
    "collapsed": false,
    "ExecuteTime": {
     "end_time": "2024-11-28T14:11:17.567136Z",
     "start_time": "2024-11-28T14:10:39.716593Z"
    }
   },
   "id": "4f1f34d6253f90e6",
   "execution_count": 5
  },
  {
   "cell_type": "code",
   "outputs": [
    {
     "data": {
      "text/plain": "value_type  summer_2016  summer_2017  summer_2018  summer_2019  summer_2020  \\\npid                                                                           \n10S39QasDg    10.824041     7.658367     7.523459     8.722359     9.960289   \n10S39QasDr     3.882638     7.957880    10.320893    11.056524     7.660064   \n10S39QasDs     2.935736     1.276960     4.992448     3.925910     0.509936   \n10S39QasDt     1.004599     2.533557     4.491845     3.743487     4.635238   \n10S39QasER          NaN     6.095470     3.469429     4.601299     6.150621   \n...                 ...          ...          ...          ...          ...   \n40cEJPNUfH          NaN     5.758624     5.135841     5.425172     5.829896   \n40cEO62jrG          NaN     2.929796     3.175855     3.354036     1.793684   \n40cEO62jrI     1.881077     2.316346     3.374399     5.342869     6.686859   \n40cEO62jrJ          NaN     6.467952     3.370157     4.620814     2.973069   \n40cEO62jrK          NaN     4.619966     3.860577     4.301786     5.523595   \n\nvalue_type  summer_2021  winter_2016  winter_2017  winter_2018  winter_2019  \\\npid                                                                           \n10S39QasDg    10.381983          NaN    11.560520     8.281150     9.809260   \n10S39QasDr     2.745677          NaN     8.589997     7.950244    10.068895   \n10S39QasDs     2.183984          NaN     1.890410     3.777426     5.732321   \n10S39QasDt          NaN          NaN     4.251726     3.798638          NaN   \n10S39QasER     4.697177          NaN     4.329786     4.500330     4.827843   \n...                 ...          ...          ...          ...          ...   \n40cEJPNUfH     4.026879          NaN     6.136197     6.266862     4.559724   \n40cEO62jrG     1.503504          NaN     3.355733     3.352339     3.050280   \n40cEO62jrI     4.754874          NaN     3.447368     4.796449     3.513550   \n40cEO62jrJ     2.276468          NaN     4.372210     5.211355     4.054879   \n40cEO62jrK     2.849191          NaN     4.449421     5.211355     4.439240   \n\nvalue_type  winter_2020  winter_2021  \npid                                   \n10S39QasDg     7.980789     8.109758  \n10S39QasDr    13.241356     6.360195  \n10S39QasDs     3.144461     0.005091  \n10S39QasDt     3.318400     2.923009  \n10S39QasER     7.317279     3.555125  \n...                 ...          ...  \n40cEJPNUfH     5.472687     4.071848  \n40cEO62jrG     3.031614     0.195150  \n40cEO62jrI     5.447232     3.737548  \n40cEO62jrJ     3.544943     2.977311  \n40cEO62jrK     3.752821     3.723124  \n\n[1441710 rows x 12 columns]",
      "text/html": "<div>\n<style scoped>\n    .dataframe tbody tr th:only-of-type {\n        vertical-align: middle;\n    }\n\n    .dataframe tbody tr th {\n        vertical-align: top;\n    }\n\n    .dataframe thead th {\n        text-align: right;\n    }\n</style>\n<table border=\"1\" class=\"dataframe\">\n  <thead>\n    <tr style=\"text-align: right;\">\n      <th>value_type</th>\n      <th>summer_2016</th>\n      <th>summer_2017</th>\n      <th>summer_2018</th>\n      <th>summer_2019</th>\n      <th>summer_2020</th>\n      <th>summer_2021</th>\n      <th>winter_2016</th>\n      <th>winter_2017</th>\n      <th>winter_2018</th>\n      <th>winter_2019</th>\n      <th>winter_2020</th>\n      <th>winter_2021</th>\n    </tr>\n    <tr>\n      <th>pid</th>\n      <th></th>\n      <th></th>\n      <th></th>\n      <th></th>\n      <th></th>\n      <th></th>\n      <th></th>\n      <th></th>\n      <th></th>\n      <th></th>\n      <th></th>\n      <th></th>\n    </tr>\n  </thead>\n  <tbody>\n    <tr>\n      <th>10S39QasDg</th>\n      <td>10.824041</td>\n      <td>7.658367</td>\n      <td>7.523459</td>\n      <td>8.722359</td>\n      <td>9.960289</td>\n      <td>10.381983</td>\n      <td>NaN</td>\n      <td>11.560520</td>\n      <td>8.281150</td>\n      <td>9.809260</td>\n      <td>7.980789</td>\n      <td>8.109758</td>\n    </tr>\n    <tr>\n      <th>10S39QasDr</th>\n      <td>3.882638</td>\n      <td>7.957880</td>\n      <td>10.320893</td>\n      <td>11.056524</td>\n      <td>7.660064</td>\n      <td>2.745677</td>\n      <td>NaN</td>\n      <td>8.589997</td>\n      <td>7.950244</td>\n      <td>10.068895</td>\n      <td>13.241356</td>\n      <td>6.360195</td>\n    </tr>\n    <tr>\n      <th>10S39QasDs</th>\n      <td>2.935736</td>\n      <td>1.276960</td>\n      <td>4.992448</td>\n      <td>3.925910</td>\n      <td>0.509936</td>\n      <td>2.183984</td>\n      <td>NaN</td>\n      <td>1.890410</td>\n      <td>3.777426</td>\n      <td>5.732321</td>\n      <td>3.144461</td>\n      <td>0.005091</td>\n    </tr>\n    <tr>\n      <th>10S39QasDt</th>\n      <td>1.004599</td>\n      <td>2.533557</td>\n      <td>4.491845</td>\n      <td>3.743487</td>\n      <td>4.635238</td>\n      <td>NaN</td>\n      <td>NaN</td>\n      <td>4.251726</td>\n      <td>3.798638</td>\n      <td>NaN</td>\n      <td>3.318400</td>\n      <td>2.923009</td>\n    </tr>\n    <tr>\n      <th>10S39QasER</th>\n      <td>NaN</td>\n      <td>6.095470</td>\n      <td>3.469429</td>\n      <td>4.601299</td>\n      <td>6.150621</td>\n      <td>4.697177</td>\n      <td>NaN</td>\n      <td>4.329786</td>\n      <td>4.500330</td>\n      <td>4.827843</td>\n      <td>7.317279</td>\n      <td>3.555125</td>\n    </tr>\n    <tr>\n      <th>...</th>\n      <td>...</td>\n      <td>...</td>\n      <td>...</td>\n      <td>...</td>\n      <td>...</td>\n      <td>...</td>\n      <td>...</td>\n      <td>...</td>\n      <td>...</td>\n      <td>...</td>\n      <td>...</td>\n      <td>...</td>\n    </tr>\n    <tr>\n      <th>40cEJPNUfH</th>\n      <td>NaN</td>\n      <td>5.758624</td>\n      <td>5.135841</td>\n      <td>5.425172</td>\n      <td>5.829896</td>\n      <td>4.026879</td>\n      <td>NaN</td>\n      <td>6.136197</td>\n      <td>6.266862</td>\n      <td>4.559724</td>\n      <td>5.472687</td>\n      <td>4.071848</td>\n    </tr>\n    <tr>\n      <th>40cEO62jrG</th>\n      <td>NaN</td>\n      <td>2.929796</td>\n      <td>3.175855</td>\n      <td>3.354036</td>\n      <td>1.793684</td>\n      <td>1.503504</td>\n      <td>NaN</td>\n      <td>3.355733</td>\n      <td>3.352339</td>\n      <td>3.050280</td>\n      <td>3.031614</td>\n      <td>0.195150</td>\n    </tr>\n    <tr>\n      <th>40cEO62jrI</th>\n      <td>1.881077</td>\n      <td>2.316346</td>\n      <td>3.374399</td>\n      <td>5.342869</td>\n      <td>6.686859</td>\n      <td>4.754874</td>\n      <td>NaN</td>\n      <td>3.447368</td>\n      <td>4.796449</td>\n      <td>3.513550</td>\n      <td>5.447232</td>\n      <td>3.737548</td>\n    </tr>\n    <tr>\n      <th>40cEO62jrJ</th>\n      <td>NaN</td>\n      <td>6.467952</td>\n      <td>3.370157</td>\n      <td>4.620814</td>\n      <td>2.973069</td>\n      <td>2.276468</td>\n      <td>NaN</td>\n      <td>4.372210</td>\n      <td>5.211355</td>\n      <td>4.054879</td>\n      <td>3.544943</td>\n      <td>2.977311</td>\n    </tr>\n    <tr>\n      <th>40cEO62jrK</th>\n      <td>NaN</td>\n      <td>4.619966</td>\n      <td>3.860577</td>\n      <td>4.301786</td>\n      <td>5.523595</td>\n      <td>2.849191</td>\n      <td>NaN</td>\n      <td>4.449421</td>\n      <td>5.211355</td>\n      <td>4.439240</td>\n      <td>3.752821</td>\n      <td>3.723124</td>\n    </tr>\n  </tbody>\n</table>\n<p>1441710 rows × 12 columns</p>\n</div>"
     },
     "execution_count": 7,
     "metadata": {},
     "output_type": "execute_result"
    }
   ],
   "source": [
    "df_pivot = data.pivot_table(index='pid', columns=['value_type'], values='value_diff_abs_denorm', aggfunc='max')\n",
    "# df_pivot.drop('winter_2022', axis=1, inplace=True)\n",
    "df_pivot"
   ],
   "metadata": {
    "collapsed": false,
    "ExecuteTime": {
     "end_time": "2024-11-28T14:13:08.844545Z",
     "start_time": "2024-11-28T14:12:59.610354Z"
    }
   },
   "id": "a0c8145db274fccc",
   "execution_count": 7
  },
  {
   "cell_type": "code",
   "outputs": [],
   "source": [
    "# for col in df_pivot.columns:\n",
    "#     if 'winter' in col:\n",
    "#         df_pivot.loc[df_pivot[col] < 0, col] = 0\n",
    "#     if 'summer' in col:\n",
    "#         df_pivot.loc[df_pivot[col] > 0, col] = 0\n",
    "#         df_pivot[col] = abs(df_pivot[col])\n",
    "# df_pivot.reset_index(inplace=True)\n",
    "\n",
    "gdf = df_pivot.merge(df[['pid','geometry']], on='pid', how='left').drop_duplicates()\n",
    "gdf = gpd.GeoDataFrame(gdf, geometry='geometry', crs=2154)"
   ],
   "metadata": {
    "collapsed": false,
    "ExecuteTime": {
     "end_time": "2024-11-28T14:14:40.656236Z",
     "start_time": "2024-11-28T14:13:58.105213Z"
    }
   },
   "id": "1c5ef2d2f66bb904",
   "execution_count": 8
  },
  {
   "cell_type": "code",
   "outputs": [
    {
     "data": {
      "text/plain": "                 pid  summer_2016  summer_2017  summer_2018  summer_2019  \\\n0         10S39QasDg    10.824041     7.658367     7.523459     8.722359   \n12        10S39QasDr     3.882638     7.957880    10.320893    11.056524   \n25        10S39QasDs     2.935736     1.276960     4.992448     3.925910   \n39        10S39QasDt     1.004599     2.533557     4.491845     3.743487   \n51        10S39QasER          NaN     6.095470     3.469429     4.601299   \n...              ...          ...          ...          ...          ...   \n19829307  40cEJPNUfH          NaN     5.758624     5.135841     5.425172   \n19829318  40cEO62jrG          NaN     2.929796     3.175855     3.354036   \n19829331  40cEO62jrI     1.881077     2.316346     3.374399     5.342869   \n19829344  40cEO62jrJ          NaN     6.467952     3.370157     4.620814   \n19829356  40cEO62jrK          NaN     4.619966     3.860577     4.301786   \n\n          summer_2020  summer_2021  winter_2016  winter_2017  winter_2018  \\\n0            9.960289    10.381983          NaN    11.560520     8.281150   \n12           7.660064     2.745677          NaN     8.589997     7.950244   \n25           0.509936     2.183984          NaN     1.890410     3.777426   \n39           4.635238          NaN          NaN     4.251726     3.798638   \n51           6.150621     4.697177          NaN     4.329786     4.500330   \n...               ...          ...          ...          ...          ...   \n19829307     5.829896     4.026879          NaN     6.136197     6.266862   \n19829318     1.793684     1.503504          NaN     3.355733     3.352339   \n19829331     6.686859     4.754874          NaN     3.447368     4.796449   \n19829344     2.973069     2.276468          NaN     4.372210     5.211355   \n19829356     5.523595     2.849191          NaN     4.449421     5.211355   \n\n          winter_2019  winter_2020  winter_2021  \\\n0            9.809260     7.980789     8.109758   \n12          10.068895    13.241356     6.360195   \n25           5.732321     3.144461     0.005091   \n39                NaN     3.318400     2.923009   \n51           4.827843     7.317279     3.555125   \n...               ...          ...          ...   \n19829307     4.559724     5.472687     4.071848   \n19829318     3.050280     3.031614     0.195150   \n19829331     3.513550     5.447232     3.737548   \n19829344     4.054879     3.544943     2.977311   \n19829356     4.439240     3.752821     3.723124   \n\n                                 geometry  \n0         POINT (1046178.932 6306701.725)  \n12        POINT (1047272.145 6306801.060)  \n25        POINT (1047371.528 6306810.089)  \n39        POINT (1047470.911 6306819.119)  \n51        POINT (1050849.925 6307126.079)  \n...                                   ...  \n19829307   POINT (668330.575 7110000.654)  \n19829318   POINT (667821.733 7110052.186)  \n19829331   POINT (668021.436 7110071.449)  \n19829344   POINT (668121.287 7110081.080)  \n19829356   POINT (668221.139 7110090.712)  \n\n[1441710 rows x 14 columns]",
      "text/html": "<div>\n<style scoped>\n    .dataframe tbody tr th:only-of-type {\n        vertical-align: middle;\n    }\n\n    .dataframe tbody tr th {\n        vertical-align: top;\n    }\n\n    .dataframe thead th {\n        text-align: right;\n    }\n</style>\n<table border=\"1\" class=\"dataframe\">\n  <thead>\n    <tr style=\"text-align: right;\">\n      <th></th>\n      <th>pid</th>\n      <th>summer_2016</th>\n      <th>summer_2017</th>\n      <th>summer_2018</th>\n      <th>summer_2019</th>\n      <th>summer_2020</th>\n      <th>summer_2021</th>\n      <th>winter_2016</th>\n      <th>winter_2017</th>\n      <th>winter_2018</th>\n      <th>winter_2019</th>\n      <th>winter_2020</th>\n      <th>winter_2021</th>\n      <th>geometry</th>\n    </tr>\n  </thead>\n  <tbody>\n    <tr>\n      <th>0</th>\n      <td>10S39QasDg</td>\n      <td>10.824041</td>\n      <td>7.658367</td>\n      <td>7.523459</td>\n      <td>8.722359</td>\n      <td>9.960289</td>\n      <td>10.381983</td>\n      <td>NaN</td>\n      <td>11.560520</td>\n      <td>8.281150</td>\n      <td>9.809260</td>\n      <td>7.980789</td>\n      <td>8.109758</td>\n      <td>POINT (1046178.932 6306701.725)</td>\n    </tr>\n    <tr>\n      <th>12</th>\n      <td>10S39QasDr</td>\n      <td>3.882638</td>\n      <td>7.957880</td>\n      <td>10.320893</td>\n      <td>11.056524</td>\n      <td>7.660064</td>\n      <td>2.745677</td>\n      <td>NaN</td>\n      <td>8.589997</td>\n      <td>7.950244</td>\n      <td>10.068895</td>\n      <td>13.241356</td>\n      <td>6.360195</td>\n      <td>POINT (1047272.145 6306801.060)</td>\n    </tr>\n    <tr>\n      <th>25</th>\n      <td>10S39QasDs</td>\n      <td>2.935736</td>\n      <td>1.276960</td>\n      <td>4.992448</td>\n      <td>3.925910</td>\n      <td>0.509936</td>\n      <td>2.183984</td>\n      <td>NaN</td>\n      <td>1.890410</td>\n      <td>3.777426</td>\n      <td>5.732321</td>\n      <td>3.144461</td>\n      <td>0.005091</td>\n      <td>POINT (1047371.528 6306810.089)</td>\n    </tr>\n    <tr>\n      <th>39</th>\n      <td>10S39QasDt</td>\n      <td>1.004599</td>\n      <td>2.533557</td>\n      <td>4.491845</td>\n      <td>3.743487</td>\n      <td>4.635238</td>\n      <td>NaN</td>\n      <td>NaN</td>\n      <td>4.251726</td>\n      <td>3.798638</td>\n      <td>NaN</td>\n      <td>3.318400</td>\n      <td>2.923009</td>\n      <td>POINT (1047470.911 6306819.119)</td>\n    </tr>\n    <tr>\n      <th>51</th>\n      <td>10S39QasER</td>\n      <td>NaN</td>\n      <td>6.095470</td>\n      <td>3.469429</td>\n      <td>4.601299</td>\n      <td>6.150621</td>\n      <td>4.697177</td>\n      <td>NaN</td>\n      <td>4.329786</td>\n      <td>4.500330</td>\n      <td>4.827843</td>\n      <td>7.317279</td>\n      <td>3.555125</td>\n      <td>POINT (1050849.925 6307126.079)</td>\n    </tr>\n    <tr>\n      <th>...</th>\n      <td>...</td>\n      <td>...</td>\n      <td>...</td>\n      <td>...</td>\n      <td>...</td>\n      <td>...</td>\n      <td>...</td>\n      <td>...</td>\n      <td>...</td>\n      <td>...</td>\n      <td>...</td>\n      <td>...</td>\n      <td>...</td>\n      <td>...</td>\n    </tr>\n    <tr>\n      <th>19829307</th>\n      <td>40cEJPNUfH</td>\n      <td>NaN</td>\n      <td>5.758624</td>\n      <td>5.135841</td>\n      <td>5.425172</td>\n      <td>5.829896</td>\n      <td>4.026879</td>\n      <td>NaN</td>\n      <td>6.136197</td>\n      <td>6.266862</td>\n      <td>4.559724</td>\n      <td>5.472687</td>\n      <td>4.071848</td>\n      <td>POINT (668330.575 7110000.654)</td>\n    </tr>\n    <tr>\n      <th>19829318</th>\n      <td>40cEO62jrG</td>\n      <td>NaN</td>\n      <td>2.929796</td>\n      <td>3.175855</td>\n      <td>3.354036</td>\n      <td>1.793684</td>\n      <td>1.503504</td>\n      <td>NaN</td>\n      <td>3.355733</td>\n      <td>3.352339</td>\n      <td>3.050280</td>\n      <td>3.031614</td>\n      <td>0.195150</td>\n      <td>POINT (667821.733 7110052.186)</td>\n    </tr>\n    <tr>\n      <th>19829331</th>\n      <td>40cEO62jrI</td>\n      <td>1.881077</td>\n      <td>2.316346</td>\n      <td>3.374399</td>\n      <td>5.342869</td>\n      <td>6.686859</td>\n      <td>4.754874</td>\n      <td>NaN</td>\n      <td>3.447368</td>\n      <td>4.796449</td>\n      <td>3.513550</td>\n      <td>5.447232</td>\n      <td>3.737548</td>\n      <td>POINT (668021.436 7110071.449)</td>\n    </tr>\n    <tr>\n      <th>19829344</th>\n      <td>40cEO62jrJ</td>\n      <td>NaN</td>\n      <td>6.467952</td>\n      <td>3.370157</td>\n      <td>4.620814</td>\n      <td>2.973069</td>\n      <td>2.276468</td>\n      <td>NaN</td>\n      <td>4.372210</td>\n      <td>5.211355</td>\n      <td>4.054879</td>\n      <td>3.544943</td>\n      <td>2.977311</td>\n      <td>POINT (668121.287 7110081.080)</td>\n    </tr>\n    <tr>\n      <th>19829356</th>\n      <td>40cEO62jrK</td>\n      <td>NaN</td>\n      <td>4.619966</td>\n      <td>3.860577</td>\n      <td>4.301786</td>\n      <td>5.523595</td>\n      <td>2.849191</td>\n      <td>NaN</td>\n      <td>4.449421</td>\n      <td>5.211355</td>\n      <td>4.439240</td>\n      <td>3.752821</td>\n      <td>3.723124</td>\n      <td>POINT (668221.139 7110090.712)</td>\n    </tr>\n  </tbody>\n</table>\n<p>1441710 rows × 14 columns</p>\n</div>"
     },
     "execution_count": 9,
     "metadata": {},
     "output_type": "execute_result"
    }
   ],
   "source": [
    "gdf"
   ],
   "metadata": {
    "collapsed": false,
    "ExecuteTime": {
     "end_time": "2024-11-28T14:14:40.702312Z",
     "start_time": "2024-11-28T14:14:40.658491Z"
    }
   },
   "id": "b6e423a1e6fa805e",
   "execution_count": 9
  },
  {
   "cell_type": "code",
   "outputs": [],
   "source": [
    "pyogrio.write_dataframe(gdf, geopackage_path, layer=\"data_processed\", driver=\"GPKG\")"
   ],
   "metadata": {
    "collapsed": false,
    "ExecuteTime": {
     "end_time": "2024-11-14T11:04:31.538671Z",
     "start_time": "2024-11-14T11:04:13.799986Z"
    }
   },
   "id": "fc479b7ab23eb854",
   "execution_count": 46
  }
 ],
 "metadata": {
  "kernelspec": {
   "display_name": "Python 3",
   "language": "python",
   "name": "python3"
  },
  "language_info": {
   "codemirror_mode": {
    "name": "ipython",
    "version": 2
   },
   "file_extension": ".py",
   "mimetype": "text/x-python",
   "name": "python",
   "nbconvert_exporter": "python",
   "pygments_lexer": "ipython2",
   "version": "2.7.6"
  }
 },
 "nbformat": 4,
 "nbformat_minor": 5
}
