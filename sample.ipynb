{
 "cells": [
  {
   "cell_type": "code",
   "execution_count": 1,
   "id": "initial_id",
   "metadata": {
    "collapsed": true,
    "ExecuteTime": {
     "end_time": "2024-06-10T14:05:54.164198Z",
     "start_time": "2024-06-10T14:05:53.675245Z"
    }
   },
   "outputs": [],
   "source": [
    "import geopandas as gpd\n",
    "import numpy as np"
   ]
  },
  {
   "cell_type": "code",
   "outputs": [],
   "source": [
    "gdf = gpd.read_file(\"C:/Users/eleonore.kong/Documents/InSAR/filtered_results_com.shp\")"
   ],
   "metadata": {
    "collapsed": false,
    "ExecuteTime": {
     "end_time": "2024-06-10T14:06:33.413726Z",
     "start_time": "2024-06-10T14:05:54.166463Z"
    }
   },
   "id": "582ced52be7da3d2",
   "execution_count": 2
  },
  {
   "cell_type": "code",
   "outputs": [
    {
     "data": {
      "text/plain": "        Intercept     Trend  Amplitude  Phase Angl  RMS Error  Seasonal R  \\\n0       -2.492808 -0.970511   1.591884   -0.154048   3.001033    1.573089   \n1       -1.715514 -1.681529   0.460560    0.430759   2.928214    0.419448   \n2       -3.223259 -8.966541   0.939839   -0.511880   4.068124    0.823235   \n3        1.720972 -6.809516   0.740473   -0.446043   7.241397    0.669798   \n4       -2.117247 -1.466231   2.427420    0.048725   1.927104    2.424540   \n...           ...       ...        ...         ...        ...         ...   \n192225  -0.588384 -0.789164   0.195560    0.135950   0.930170    0.193760   \n192226  -2.901351 -1.292027   0.511529    0.458358   1.361782    0.460092   \n192227   1.782507 -1.645248   0.269523   -0.407884   3.795366    0.247865   \n192228  -1.279369 -1.121952   0.471479    0.251810   2.115113    0.456727   \n192229   1.084995 -1.278840   1.211221    0.301672   2.172647    1.157141   \n\n                                               Fitted Val  \\\n0       [-0.95091989 -1.01137483 -1.08788066 -1.179792...   \n1       [ -1.3032095   -1.31632169  -1.33417281  -1.35...   \n2       [ -2.53567056  -2.74026937  -2.95262198  -3.17...   \n3       [ 2.29088036e+00  2.13802326e+00  1.97874278e+...   \n4       [  0.29362651   0.25160195   0.18393659   0.09...   \n...                                                   ...   \n192225  [-0.40190688 -0.41455717 -0.42928761 -0.446079...   \n192226  [ -2.44229494  -2.44602231  -2.45497261  -2.46...   \n192227  [ 2.003965    1.96292209  1.91947943  1.873811...   \n192228  [-0.82804951 -0.84010712 -0.85716709 -0.879244...   \n192229  [ 2.24951985  2.25103808  2.23977253  2.215619...   \n\n                                                    years  \\\n0       [0.0109514  0.02737851 0.04380561 0.06023272 0...   \n1       [0.0109514  0.02737851 0.04380561 0.06023272 0...   \n2       [0.0109514  0.02737851 0.04380561 0.06023272 0...   \n3       [0.0109514  0.02737851 0.04380561 0.06023272 0...   \n4       [0.0109514  0.02737851 0.04380561 0.06023272 0...   \n...                                                   ...   \n192225  [0.0109514  0.02737851 0.04380561 0.06023272 0...   \n192226  [0.0109514  0.02737851 0.04380561 0.06023272 0...   \n192227  [0.0109514  0.02737851 0.04380561 0.06023272 0...   \n192228  [0.0109514  0.02737851 0.04380561 0.06023272 0...   \n192229  [0.0109514  0.02737851 0.04380561 0.06023272 0...   \n\n                                                datetimes  \\\n0       [datetime.date(2016, 1, 5), datetime.date(2016...   \n1       [datetime.date(2016, 1, 5), datetime.date(2016...   \n2       [datetime.date(2016, 1, 5), datetime.date(2016...   \n3       [datetime.date(2016, 1, 5), datetime.date(2016...   \n4       [datetime.date(2016, 1, 5), datetime.date(2016...   \n...                                                   ...   \n192225  [datetime.date(2016, 1, 5), datetime.date(2016...   \n192226  [datetime.date(2016, 1, 5), datetime.date(2016...   \n192227  [datetime.date(2016, 1, 5), datetime.date(2016...   \n192228  [datetime.date(2016, 1, 5), datetime.date(2016...   \n192229  [datetime.date(2016, 1, 5), datetime.date(2016...   \n\n                                               displaceme  \\\n0       [  0.4  -0.1  -1.   -1.   -0.9  -0.8  -0.8  -1...   \n1       [ -2.8  -0.1   2.9   0.2  -3.5  -3.2  -2.1   0...   \n2       [ -2.3   2.    7.    2.8  -2.7  -6.9 -10.7 -10...   \n3       [ -1.8  -0.1  -0.5   1.    2.9   2.    0.5   0...   \n4       [  1.9   1.5   1.1   1.2   1.5  -0.8  -3.2  -3...   \n...                                                   ...   \n192225  [-2.  -1.2 -0.4 -0.4 -0.5  0.2  0.8  0.6  0.3 ...   \n192226  [  1.    0.3  -0.8  -0.6  -0.3  -1.2  -2.1  -2...   \n192227  [ -1.    0.1   1.2   0.3  -0.7   0.2   1.3   0...   \n192228  [ -4.2  -2.1   0.5  -0.3  -1.5  -1.5  -1.6  -0...   \n192229  [  1.9  -0.2  -2.2  -3.7  -5.1  -1.4   2.3   1...   \n\n                      Burst ID         pid                   nom insee_com  \\\n0       EGMS_L3_E34N24_100km_U  40TH4KUtne  Saint-Julien-en-Born     40266   \n1       EGMS_L3_E34N24_100km_U  40TIa5nnh3  Saint-Julien-en-Born     40266   \n2       EGMS_L3_E34N24_100km_U  40TJBb7lFc  Saint-Julien-en-Born     40266   \n3       EGMS_L3_E34N24_100km_U  40TKqjl9XA               Mimizan     40184   \n4       EGMS_L3_E34N24_100km_U  40TPq9fKNi               Mimizan     40184   \n...                        ...         ...                   ...       ...   \n192225  EGMS_L3_E35N26_100km_U  40WgBdr9ZP         Châtellerault     86066   \n192226  EGMS_L3_E35N26_100km_U  40WgZ5BNXj         Châtellerault     86066   \n192227  EGMS_L3_E35N26_100km_U  40WiWyTkbP         Châtellerault     86066   \n192228  EGMS_L3_E35N26_100km_U  40WjRESgwB                Antran     86007   \n192229  EGMS_L3_E35N26_100km_U  40Wmgp4EIx                Antran     86007   \n\n        id_hex_5km  id_hex_2km  id_hex_3km                         geometry  \n0           1673.0     10163.0      4619.0  POINT (-147227.459 5480439.350)  \n1           1672.0     10393.0      4618.0  POINT (-146660.367 5483347.254)  \n2           1672.0     10393.0      4618.0  POINT (-146405.935 5484514.870)  \n3           1672.0     10391.0      4617.0  POINT (-145740.383 5487721.245)  \n4           1763.0     10617.0      4768.0  POINT (-144568.135 5497220.116)  \n...            ...         ...         ...                              ...  \n192225      6051.0     37667.0     16642.0    POINT (59147.598 5911991.766)  \n192226      6051.0     37667.0     16642.0    POINT (59057.987 5912717.272)  \n192227      6050.0     37665.0     16641.0    POINT (58591.693 5916490.824)  \n192228      5957.0     37434.0     16640.0    POINT (58376.303 5918232.983)  \n192229      5956.0     37431.0     16638.0    POINT (57603.563 5924478.421)  \n\n[192230 rows x 18 columns]",
      "text/html": "<div>\n<style scoped>\n    .dataframe tbody tr th:only-of-type {\n        vertical-align: middle;\n    }\n\n    .dataframe tbody tr th {\n        vertical-align: top;\n    }\n\n    .dataframe thead th {\n        text-align: right;\n    }\n</style>\n<table border=\"1\" class=\"dataframe\">\n  <thead>\n    <tr style=\"text-align: right;\">\n      <th></th>\n      <th>Intercept</th>\n      <th>Trend</th>\n      <th>Amplitude</th>\n      <th>Phase Angl</th>\n      <th>RMS Error</th>\n      <th>Seasonal R</th>\n      <th>Fitted Val</th>\n      <th>years</th>\n      <th>datetimes</th>\n      <th>displaceme</th>\n      <th>Burst ID</th>\n      <th>pid</th>\n      <th>nom</th>\n      <th>insee_com</th>\n      <th>id_hex_5km</th>\n      <th>id_hex_2km</th>\n      <th>id_hex_3km</th>\n      <th>geometry</th>\n    </tr>\n  </thead>\n  <tbody>\n    <tr>\n      <th>0</th>\n      <td>-2.492808</td>\n      <td>-0.970511</td>\n      <td>1.591884</td>\n      <td>-0.154048</td>\n      <td>3.001033</td>\n      <td>1.573089</td>\n      <td>[-0.95091989 -1.01137483 -1.08788066 -1.179792...</td>\n      <td>[0.0109514  0.02737851 0.04380561 0.06023272 0...</td>\n      <td>[datetime.date(2016, 1, 5), datetime.date(2016...</td>\n      <td>[  0.4  -0.1  -1.   -1.   -0.9  -0.8  -0.8  -1...</td>\n      <td>EGMS_L3_E34N24_100km_U</td>\n      <td>40TH4KUtne</td>\n      <td>Saint-Julien-en-Born</td>\n      <td>40266</td>\n      <td>1673.0</td>\n      <td>10163.0</td>\n      <td>4619.0</td>\n      <td>POINT (-147227.459 5480439.350)</td>\n    </tr>\n    <tr>\n      <th>1</th>\n      <td>-1.715514</td>\n      <td>-1.681529</td>\n      <td>0.460560</td>\n      <td>0.430759</td>\n      <td>2.928214</td>\n      <td>0.419448</td>\n      <td>[ -1.3032095   -1.31632169  -1.33417281  -1.35...</td>\n      <td>[0.0109514  0.02737851 0.04380561 0.06023272 0...</td>\n      <td>[datetime.date(2016, 1, 5), datetime.date(2016...</td>\n      <td>[ -2.8  -0.1   2.9   0.2  -3.5  -3.2  -2.1   0...</td>\n      <td>EGMS_L3_E34N24_100km_U</td>\n      <td>40TIa5nnh3</td>\n      <td>Saint-Julien-en-Born</td>\n      <td>40266</td>\n      <td>1672.0</td>\n      <td>10393.0</td>\n      <td>4618.0</td>\n      <td>POINT (-146660.367 5483347.254)</td>\n    </tr>\n    <tr>\n      <th>2</th>\n      <td>-3.223259</td>\n      <td>-8.966541</td>\n      <td>0.939839</td>\n      <td>-0.511880</td>\n      <td>4.068124</td>\n      <td>0.823235</td>\n      <td>[ -2.53567056  -2.74026937  -2.95262198  -3.17...</td>\n      <td>[0.0109514  0.02737851 0.04380561 0.06023272 0...</td>\n      <td>[datetime.date(2016, 1, 5), datetime.date(2016...</td>\n      <td>[ -2.3   2.    7.    2.8  -2.7  -6.9 -10.7 -10...</td>\n      <td>EGMS_L3_E34N24_100km_U</td>\n      <td>40TJBb7lFc</td>\n      <td>Saint-Julien-en-Born</td>\n      <td>40266</td>\n      <td>1672.0</td>\n      <td>10393.0</td>\n      <td>4618.0</td>\n      <td>POINT (-146405.935 5484514.870)</td>\n    </tr>\n    <tr>\n      <th>3</th>\n      <td>1.720972</td>\n      <td>-6.809516</td>\n      <td>0.740473</td>\n      <td>-0.446043</td>\n      <td>7.241397</td>\n      <td>0.669798</td>\n      <td>[ 2.29088036e+00  2.13802326e+00  1.97874278e+...</td>\n      <td>[0.0109514  0.02737851 0.04380561 0.06023272 0...</td>\n      <td>[datetime.date(2016, 1, 5), datetime.date(2016...</td>\n      <td>[ -1.8  -0.1  -0.5   1.    2.9   2.    0.5   0...</td>\n      <td>EGMS_L3_E34N24_100km_U</td>\n      <td>40TKqjl9XA</td>\n      <td>Mimizan</td>\n      <td>40184</td>\n      <td>1672.0</td>\n      <td>10391.0</td>\n      <td>4617.0</td>\n      <td>POINT (-145740.383 5487721.245)</td>\n    </tr>\n    <tr>\n      <th>4</th>\n      <td>-2.117247</td>\n      <td>-1.466231</td>\n      <td>2.427420</td>\n      <td>0.048725</td>\n      <td>1.927104</td>\n      <td>2.424540</td>\n      <td>[  0.29362651   0.25160195   0.18393659   0.09...</td>\n      <td>[0.0109514  0.02737851 0.04380561 0.06023272 0...</td>\n      <td>[datetime.date(2016, 1, 5), datetime.date(2016...</td>\n      <td>[  1.9   1.5   1.1   1.2   1.5  -0.8  -3.2  -3...</td>\n      <td>EGMS_L3_E34N24_100km_U</td>\n      <td>40TPq9fKNi</td>\n      <td>Mimizan</td>\n      <td>40184</td>\n      <td>1763.0</td>\n      <td>10617.0</td>\n      <td>4768.0</td>\n      <td>POINT (-144568.135 5497220.116)</td>\n    </tr>\n    <tr>\n      <th>...</th>\n      <td>...</td>\n      <td>...</td>\n      <td>...</td>\n      <td>...</td>\n      <td>...</td>\n      <td>...</td>\n      <td>...</td>\n      <td>...</td>\n      <td>...</td>\n      <td>...</td>\n      <td>...</td>\n      <td>...</td>\n      <td>...</td>\n      <td>...</td>\n      <td>...</td>\n      <td>...</td>\n      <td>...</td>\n      <td>...</td>\n    </tr>\n    <tr>\n      <th>192225</th>\n      <td>-0.588384</td>\n      <td>-0.789164</td>\n      <td>0.195560</td>\n      <td>0.135950</td>\n      <td>0.930170</td>\n      <td>0.193760</td>\n      <td>[-0.40190688 -0.41455717 -0.42928761 -0.446079...</td>\n      <td>[0.0109514  0.02737851 0.04380561 0.06023272 0...</td>\n      <td>[datetime.date(2016, 1, 5), datetime.date(2016...</td>\n      <td>[-2.  -1.2 -0.4 -0.4 -0.5  0.2  0.8  0.6  0.3 ...</td>\n      <td>EGMS_L3_E35N26_100km_U</td>\n      <td>40WgBdr9ZP</td>\n      <td>Châtellerault</td>\n      <td>86066</td>\n      <td>6051.0</td>\n      <td>37667.0</td>\n      <td>16642.0</td>\n      <td>POINT (59147.598 5911991.766)</td>\n    </tr>\n    <tr>\n      <th>192226</th>\n      <td>-2.901351</td>\n      <td>-1.292027</td>\n      <td>0.511529</td>\n      <td>0.458358</td>\n      <td>1.361782</td>\n      <td>0.460092</td>\n      <td>[ -2.44229494  -2.44602231  -2.45497261  -2.46...</td>\n      <td>[0.0109514  0.02737851 0.04380561 0.06023272 0...</td>\n      <td>[datetime.date(2016, 1, 5), datetime.date(2016...</td>\n      <td>[  1.    0.3  -0.8  -0.6  -0.3  -1.2  -2.1  -2...</td>\n      <td>EGMS_L3_E35N26_100km_U</td>\n      <td>40WgZ5BNXj</td>\n      <td>Châtellerault</td>\n      <td>86066</td>\n      <td>6051.0</td>\n      <td>37667.0</td>\n      <td>16642.0</td>\n      <td>POINT (59057.987 5912717.272)</td>\n    </tr>\n    <tr>\n      <th>192227</th>\n      <td>1.782507</td>\n      <td>-1.645248</td>\n      <td>0.269523</td>\n      <td>-0.407884</td>\n      <td>3.795366</td>\n      <td>0.247865</td>\n      <td>[ 2.003965    1.96292209  1.91947943  1.873811...</td>\n      <td>[0.0109514  0.02737851 0.04380561 0.06023272 0...</td>\n      <td>[datetime.date(2016, 1, 5), datetime.date(2016...</td>\n      <td>[ -1.    0.1   1.2   0.3  -0.7   0.2   1.3   0...</td>\n      <td>EGMS_L3_E35N26_100km_U</td>\n      <td>40WiWyTkbP</td>\n      <td>Châtellerault</td>\n      <td>86066</td>\n      <td>6050.0</td>\n      <td>37665.0</td>\n      <td>16641.0</td>\n      <td>POINT (58591.693 5916490.824)</td>\n    </tr>\n    <tr>\n      <th>192228</th>\n      <td>-1.279369</td>\n      <td>-1.121952</td>\n      <td>0.471479</td>\n      <td>0.251810</td>\n      <td>2.115113</td>\n      <td>0.456727</td>\n      <td>[-0.82804951 -0.84010712 -0.85716709 -0.879244...</td>\n      <td>[0.0109514  0.02737851 0.04380561 0.06023272 0...</td>\n      <td>[datetime.date(2016, 1, 5), datetime.date(2016...</td>\n      <td>[ -4.2  -2.1   0.5  -0.3  -1.5  -1.5  -1.6  -0...</td>\n      <td>EGMS_L3_E35N26_100km_U</td>\n      <td>40WjRESgwB</td>\n      <td>Antran</td>\n      <td>86007</td>\n      <td>5957.0</td>\n      <td>37434.0</td>\n      <td>16640.0</td>\n      <td>POINT (58376.303 5918232.983)</td>\n    </tr>\n    <tr>\n      <th>192229</th>\n      <td>1.084995</td>\n      <td>-1.278840</td>\n      <td>1.211221</td>\n      <td>0.301672</td>\n      <td>2.172647</td>\n      <td>1.157141</td>\n      <td>[ 2.24951985  2.25103808  2.23977253  2.215619...</td>\n      <td>[0.0109514  0.02737851 0.04380561 0.06023272 0...</td>\n      <td>[datetime.date(2016, 1, 5), datetime.date(2016...</td>\n      <td>[  1.9  -0.2  -2.2  -3.7  -5.1  -1.4   2.3   1...</td>\n      <td>EGMS_L3_E35N26_100km_U</td>\n      <td>40Wmgp4EIx</td>\n      <td>Antran</td>\n      <td>86007</td>\n      <td>5956.0</td>\n      <td>37431.0</td>\n      <td>16638.0</td>\n      <td>POINT (57603.563 5924478.421)</td>\n    </tr>\n  </tbody>\n</table>\n<p>192230 rows × 18 columns</p>\n</div>"
     },
     "execution_count": 3,
     "metadata": {},
     "output_type": "execute_result"
    }
   ],
   "source": [
    "gdf"
   ],
   "metadata": {
    "collapsed": false,
    "ExecuteTime": {
     "end_time": "2024-06-10T14:06:33.460222Z",
     "start_time": "2024-06-10T14:06:33.415276Z"
    }
   },
   "id": "1f5e7ea6fbf56c02",
   "execution_count": 3
  },
  {
   "cell_type": "code",
   "outputs": [],
   "source": [
    "outfolder = \"C:/Users/eleonore.kong/Documents/InSAR/\"\n",
    "\n",
    "def aggregate_data(gdf, outfolder, column):\n",
    "    outfile = outfolder + 'filtered_results_com_stats_' + column + \".csv\"\n",
    "\n",
    "    def percentile(n):\n",
    "        def percentile_(x):\n",
    "            return np.percentile(x, n)\n",
    "        percentile_.__name__ = f'percentile_{n}'\n",
    "        return percentile_\n",
    "    \n",
    "    gdf_stats = gdf.groupby(column).agg(\n",
    "        {\n",
    "            \"pid\": \n",
    "                [\"size\"],\n",
    "            \"Trend\":\n",
    "                [\"mean\",\"median\", percentile(80)],\n",
    "            \"Amplitude\":\n",
    "                [\"mean\",\"median\", percentile(80)],\n",
    "            # \"SeasonalR\":\n",
    "            #     [\"mean\",\"median\", percentile(80)],\n",
    "         \n",
    "         }\n",
    "    )\n",
    "    gdf_stats.columns = ['_'.join(col) for col in gdf_stats.columns]\n",
    "    gdf_stats = gdf_stats.reset_index()\n",
    "\n",
    "    gdf_stats.to_csv(outfile, sep=\";\", index=False)"
   ],
   "metadata": {
    "collapsed": false,
    "ExecuteTime": {
     "end_time": "2024-06-10T14:06:33.475835Z",
     "start_time": "2024-06-10T14:06:33.461322Z"
    }
   },
   "id": "4dac40330fab6590",
   "execution_count": 4
  },
  {
   "cell_type": "code",
   "outputs": [],
   "source": [
    "for column in ['insee_com','id_hex_5km','id_hex_3km','id_hex_2km']:\n",
    "    aggregate_data(gdf, outfolder, column)"
   ],
   "metadata": {
    "collapsed": false,
    "ExecuteTime": {
     "end_time": "2024-06-10T14:06:41.079085Z",
     "start_time": "2024-06-10T14:06:33.478084Z"
    }
   },
   "id": "9437aae0d9449dc3",
   "execution_count": 5
  }
 ],
 "metadata": {
  "kernelspec": {
   "display_name": "Python 3",
   "language": "python",
   "name": "python3"
  },
  "language_info": {
   "codemirror_mode": {
    "name": "ipython",
    "version": 2
   },
   "file_extension": ".py",
   "mimetype": "text/x-python",
   "name": "python",
   "nbconvert_exporter": "python",
   "pygments_lexer": "ipython2",
   "version": "2.7.6"
  }
 },
 "nbformat": 4,
 "nbformat_minor": 5
}
