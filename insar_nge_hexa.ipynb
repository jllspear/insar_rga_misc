{
 "cells": [
  {
   "cell_type": "code",
   "execution_count": 1,
   "id": "initial_id",
   "metadata": {
    "collapsed": true,
    "ExecuteTime": {
     "end_time": "2024-08-02T13:09:00.948259Z",
     "start_time": "2024-08-02T13:09:00.437424Z"
    }
   },
   "outputs": [],
   "source": [
    "import geopandas as gpd\n",
    "import numpy as np"
   ]
  },
  {
   "cell_type": "code",
   "outputs": [],
   "source": [
    "gdf = gpd.read_file(\"C:/Users/eleonore.kong/Documents/NGE/insar_points_full_hex100m.geojson\")"
   ],
   "metadata": {
    "collapsed": false,
    "ExecuteTime": {
     "end_time": "2024-08-02T13:16:02.807280Z",
     "start_time": "2024-08-02T13:09:00.949392Z"
    }
   },
   "id": "582ced52be7da3d2",
   "execution_count": 2
  },
  {
   "cell_type": "code",
   "outputs": [
    {
     "data": {
      "text/plain": "       index  velocity  D20160304  D20160421  D20160515  D20160608  D20160726  \\\n0          0     -4.84       1.01      -5.23       0.48      -7.81      -1.50   \n1          1      1.65       3.74      -7.35      -2.66       3.90       5.17   \n2          2      1.75      -6.72      -2.40     -10.77      -3.74      -5.83   \n3          3     -0.17      -5.45      -5.78      -5.17      -3.28      -3.56   \n4          4      0.54      -8.40       7.72      -9.55      -1.10      -4.72   \n...      ...       ...        ...        ...        ...        ...        ...   \n43271  43271      0.41       1.41       2.41       2.82      -0.90      -1.18   \n43272  43272     -0.36       5.10       6.68       5.35       4.36       3.85   \n43273  43273      0.62       2.92       2.63       1.37       0.66       0.32   \n43274  43274      0.54       3.09       7.07       4.51       9.58      -2.09   \n43275  43275     -2.85      -1.75       1.00      -0.10      -3.41      -3.01   \n\n       D20160819  D20160912  D20160930  ...                        layer  \\\n0          -1.57      -4.10       0.08  ...  170D_Uruguay_TramoA_fullres   \n1           8.14       6.28       6.04  ...  170D_Uruguay_TramoA_fullres   \n2           5.75       2.45     -13.06  ...  170D_Uruguay_TramoA_fullres   \n3          -0.65      -1.74       1.52  ...  170D_Uruguay_TramoA_fullres   \n4          -0.03      -2.45      -2.91  ...  170D_Uruguay_TramoA_fullres   \n...          ...        ...        ...  ...                          ...   \n43271      -1.20      -1.06       0.49  ...    170D_Uruguay_TramoA_rural   \n43272       4.07       2.41       3.69  ...    170D_Uruguay_TramoA_rural   \n43273      -0.43       0.09       0.68  ...    170D_Uruguay_TramoA_rural   \n43274       2.25       0.93       2.19  ...    170D_Uruguay_TramoA_rural   \n43275      -1.33      -5.37      -2.77  ...    170D_Uruguay_TramoA_rural   \n\n                                                    path        id  \\\n0      C:/Users/eleonore.kong/Documents/NGE/170D_Urug...   42043.0   \n1      C:/Users/eleonore.kong/Documents/NGE/170D_Urug...   42643.0   \n2      C:/Users/eleonore.kong/Documents/NGE/170D_Urug...   42043.0   \n3      C:/Users/eleonore.kong/Documents/NGE/170D_Urug...   42043.0   \n4      C:/Users/eleonore.kong/Documents/NGE/170D_Urug...   42643.0   \n...                                                  ...       ...   \n43271  C:/Users/eleonore.kong/Downloads/170D_Uruguay_...  158398.0   \n43272  C:/Users/eleonore.kong/Downloads/170D_Uruguay_...  157798.0   \n43273  C:/Users/eleonore.kong/Downloads/170D_Uruguay_...  158999.0   \n43274  C:/Users/eleonore.kong/Downloads/170D_Uruguay_...  158398.0   \n43275  C:/Users/eleonore.kong/Downloads/170D_Uruguay_...  157798.0   \n\n               left           top         right        bottom  row_index  \\\n0     -6.307996e+06 -3.817102e+06 -6.307881e+06 -3.817202e+06       42.0   \n1     -6.307910e+06 -3.817152e+06 -6.307794e+06 -3.817252e+06       42.0   \n2     -6.307996e+06 -3.817102e+06 -6.307881e+06 -3.817202e+06       42.0   \n3     -6.307996e+06 -3.817102e+06 -6.307881e+06 -3.817202e+06       42.0   \n4     -6.307910e+06 -3.817152e+06 -6.307794e+06 -3.817252e+06       42.0   \n...             ...           ...           ...           ...        ...   \n43271 -6.291282e+06 -3.872652e+06 -6.291167e+06 -3.872752e+06      597.0   \n43272 -6.291369e+06 -3.872602e+06 -6.291253e+06 -3.872702e+06      597.0   \n43273 -6.291196e+06 -3.872702e+06 -6.291080e+06 -3.872802e+06      598.0   \n43274 -6.291282e+06 -3.872652e+06 -6.291167e+06 -3.872752e+06      597.0   \n43275 -6.291369e+06 -3.872602e+06 -6.291253e+06 -3.872702e+06      597.0   \n\n       col_index                     geometry  \n0           70.0  POINT (-56.66488 -32.40916)  \n1           71.0  POINT (-56.66442 -32.40953)  \n2           70.0  POINT (-56.66527 -32.40933)  \n3           70.0  POINT (-56.66492 -32.40955)  \n4           71.0  POINT (-56.66433 -32.40982)  \n...          ...                          ...  \n43271      263.0  POINT (-56.51521 -32.82930)  \n43272      262.0  POINT (-56.51572 -32.82918)  \n43273      264.0  POINT (-56.51381 -32.83002)  \n43274      263.0  POINT (-56.51534 -32.82966)  \n43275      262.0  POINT (-56.51585 -32.82954)  \n\n[43276 rows x 223 columns]",
      "text/html": "<div>\n<style scoped>\n    .dataframe tbody tr th:only-of-type {\n        vertical-align: middle;\n    }\n\n    .dataframe tbody tr th {\n        vertical-align: top;\n    }\n\n    .dataframe thead th {\n        text-align: right;\n    }\n</style>\n<table border=\"1\" class=\"dataframe\">\n  <thead>\n    <tr style=\"text-align: right;\">\n      <th></th>\n      <th>index</th>\n      <th>velocity</th>\n      <th>D20160304</th>\n      <th>D20160421</th>\n      <th>D20160515</th>\n      <th>D20160608</th>\n      <th>D20160726</th>\n      <th>D20160819</th>\n      <th>D20160912</th>\n      <th>D20160930</th>\n      <th>...</th>\n      <th>layer</th>\n      <th>path</th>\n      <th>id</th>\n      <th>left</th>\n      <th>top</th>\n      <th>right</th>\n      <th>bottom</th>\n      <th>row_index</th>\n      <th>col_index</th>\n      <th>geometry</th>\n    </tr>\n  </thead>\n  <tbody>\n    <tr>\n      <th>0</th>\n      <td>0</td>\n      <td>-4.84</td>\n      <td>1.01</td>\n      <td>-5.23</td>\n      <td>0.48</td>\n      <td>-7.81</td>\n      <td>-1.50</td>\n      <td>-1.57</td>\n      <td>-4.10</td>\n      <td>0.08</td>\n      <td>...</td>\n      <td>170D_Uruguay_TramoA_fullres</td>\n      <td>C:/Users/eleonore.kong/Documents/NGE/170D_Urug...</td>\n      <td>42043.0</td>\n      <td>-6.307996e+06</td>\n      <td>-3.817102e+06</td>\n      <td>-6.307881e+06</td>\n      <td>-3.817202e+06</td>\n      <td>42.0</td>\n      <td>70.0</td>\n      <td>POINT (-56.66488 -32.40916)</td>\n    </tr>\n    <tr>\n      <th>1</th>\n      <td>1</td>\n      <td>1.65</td>\n      <td>3.74</td>\n      <td>-7.35</td>\n      <td>-2.66</td>\n      <td>3.90</td>\n      <td>5.17</td>\n      <td>8.14</td>\n      <td>6.28</td>\n      <td>6.04</td>\n      <td>...</td>\n      <td>170D_Uruguay_TramoA_fullres</td>\n      <td>C:/Users/eleonore.kong/Documents/NGE/170D_Urug...</td>\n      <td>42643.0</td>\n      <td>-6.307910e+06</td>\n      <td>-3.817152e+06</td>\n      <td>-6.307794e+06</td>\n      <td>-3.817252e+06</td>\n      <td>42.0</td>\n      <td>71.0</td>\n      <td>POINT (-56.66442 -32.40953)</td>\n    </tr>\n    <tr>\n      <th>2</th>\n      <td>2</td>\n      <td>1.75</td>\n      <td>-6.72</td>\n      <td>-2.40</td>\n      <td>-10.77</td>\n      <td>-3.74</td>\n      <td>-5.83</td>\n      <td>5.75</td>\n      <td>2.45</td>\n      <td>-13.06</td>\n      <td>...</td>\n      <td>170D_Uruguay_TramoA_fullres</td>\n      <td>C:/Users/eleonore.kong/Documents/NGE/170D_Urug...</td>\n      <td>42043.0</td>\n      <td>-6.307996e+06</td>\n      <td>-3.817102e+06</td>\n      <td>-6.307881e+06</td>\n      <td>-3.817202e+06</td>\n      <td>42.0</td>\n      <td>70.0</td>\n      <td>POINT (-56.66527 -32.40933)</td>\n    </tr>\n    <tr>\n      <th>3</th>\n      <td>3</td>\n      <td>-0.17</td>\n      <td>-5.45</td>\n      <td>-5.78</td>\n      <td>-5.17</td>\n      <td>-3.28</td>\n      <td>-3.56</td>\n      <td>-0.65</td>\n      <td>-1.74</td>\n      <td>1.52</td>\n      <td>...</td>\n      <td>170D_Uruguay_TramoA_fullres</td>\n      <td>C:/Users/eleonore.kong/Documents/NGE/170D_Urug...</td>\n      <td>42043.0</td>\n      <td>-6.307996e+06</td>\n      <td>-3.817102e+06</td>\n      <td>-6.307881e+06</td>\n      <td>-3.817202e+06</td>\n      <td>42.0</td>\n      <td>70.0</td>\n      <td>POINT (-56.66492 -32.40955)</td>\n    </tr>\n    <tr>\n      <th>4</th>\n      <td>4</td>\n      <td>0.54</td>\n      <td>-8.40</td>\n      <td>7.72</td>\n      <td>-9.55</td>\n      <td>-1.10</td>\n      <td>-4.72</td>\n      <td>-0.03</td>\n      <td>-2.45</td>\n      <td>-2.91</td>\n      <td>...</td>\n      <td>170D_Uruguay_TramoA_fullres</td>\n      <td>C:/Users/eleonore.kong/Documents/NGE/170D_Urug...</td>\n      <td>42643.0</td>\n      <td>-6.307910e+06</td>\n      <td>-3.817152e+06</td>\n      <td>-6.307794e+06</td>\n      <td>-3.817252e+06</td>\n      <td>42.0</td>\n      <td>71.0</td>\n      <td>POINT (-56.66433 -32.40982)</td>\n    </tr>\n    <tr>\n      <th>...</th>\n      <td>...</td>\n      <td>...</td>\n      <td>...</td>\n      <td>...</td>\n      <td>...</td>\n      <td>...</td>\n      <td>...</td>\n      <td>...</td>\n      <td>...</td>\n      <td>...</td>\n      <td>...</td>\n      <td>...</td>\n      <td>...</td>\n      <td>...</td>\n      <td>...</td>\n      <td>...</td>\n      <td>...</td>\n      <td>...</td>\n      <td>...</td>\n      <td>...</td>\n      <td>...</td>\n    </tr>\n    <tr>\n      <th>43271</th>\n      <td>43271</td>\n      <td>0.41</td>\n      <td>1.41</td>\n      <td>2.41</td>\n      <td>2.82</td>\n      <td>-0.90</td>\n      <td>-1.18</td>\n      <td>-1.20</td>\n      <td>-1.06</td>\n      <td>0.49</td>\n      <td>...</td>\n      <td>170D_Uruguay_TramoA_rural</td>\n      <td>C:/Users/eleonore.kong/Downloads/170D_Uruguay_...</td>\n      <td>158398.0</td>\n      <td>-6.291282e+06</td>\n      <td>-3.872652e+06</td>\n      <td>-6.291167e+06</td>\n      <td>-3.872752e+06</td>\n      <td>597.0</td>\n      <td>263.0</td>\n      <td>POINT (-56.51521 -32.82930)</td>\n    </tr>\n    <tr>\n      <th>43272</th>\n      <td>43272</td>\n      <td>-0.36</td>\n      <td>5.10</td>\n      <td>6.68</td>\n      <td>5.35</td>\n      <td>4.36</td>\n      <td>3.85</td>\n      <td>4.07</td>\n      <td>2.41</td>\n      <td>3.69</td>\n      <td>...</td>\n      <td>170D_Uruguay_TramoA_rural</td>\n      <td>C:/Users/eleonore.kong/Downloads/170D_Uruguay_...</td>\n      <td>157798.0</td>\n      <td>-6.291369e+06</td>\n      <td>-3.872602e+06</td>\n      <td>-6.291253e+06</td>\n      <td>-3.872702e+06</td>\n      <td>597.0</td>\n      <td>262.0</td>\n      <td>POINT (-56.51572 -32.82918)</td>\n    </tr>\n    <tr>\n      <th>43273</th>\n      <td>43273</td>\n      <td>0.62</td>\n      <td>2.92</td>\n      <td>2.63</td>\n      <td>1.37</td>\n      <td>0.66</td>\n      <td>0.32</td>\n      <td>-0.43</td>\n      <td>0.09</td>\n      <td>0.68</td>\n      <td>...</td>\n      <td>170D_Uruguay_TramoA_rural</td>\n      <td>C:/Users/eleonore.kong/Downloads/170D_Uruguay_...</td>\n      <td>158999.0</td>\n      <td>-6.291196e+06</td>\n      <td>-3.872702e+06</td>\n      <td>-6.291080e+06</td>\n      <td>-3.872802e+06</td>\n      <td>598.0</td>\n      <td>264.0</td>\n      <td>POINT (-56.51381 -32.83002)</td>\n    </tr>\n    <tr>\n      <th>43274</th>\n      <td>43274</td>\n      <td>0.54</td>\n      <td>3.09</td>\n      <td>7.07</td>\n      <td>4.51</td>\n      <td>9.58</td>\n      <td>-2.09</td>\n      <td>2.25</td>\n      <td>0.93</td>\n      <td>2.19</td>\n      <td>...</td>\n      <td>170D_Uruguay_TramoA_rural</td>\n      <td>C:/Users/eleonore.kong/Downloads/170D_Uruguay_...</td>\n      <td>158398.0</td>\n      <td>-6.291282e+06</td>\n      <td>-3.872652e+06</td>\n      <td>-6.291167e+06</td>\n      <td>-3.872752e+06</td>\n      <td>597.0</td>\n      <td>263.0</td>\n      <td>POINT (-56.51534 -32.82966)</td>\n    </tr>\n    <tr>\n      <th>43275</th>\n      <td>43275</td>\n      <td>-2.85</td>\n      <td>-1.75</td>\n      <td>1.00</td>\n      <td>-0.10</td>\n      <td>-3.41</td>\n      <td>-3.01</td>\n      <td>-1.33</td>\n      <td>-5.37</td>\n      <td>-2.77</td>\n      <td>...</td>\n      <td>170D_Uruguay_TramoA_rural</td>\n      <td>C:/Users/eleonore.kong/Downloads/170D_Uruguay_...</td>\n      <td>157798.0</td>\n      <td>-6.291369e+06</td>\n      <td>-3.872602e+06</td>\n      <td>-6.291253e+06</td>\n      <td>-3.872702e+06</td>\n      <td>597.0</td>\n      <td>262.0</td>\n      <td>POINT (-56.51585 -32.82954)</td>\n    </tr>\n  </tbody>\n</table>\n<p>43276 rows × 223 columns</p>\n</div>"
     },
     "execution_count": 3,
     "metadata": {},
     "output_type": "execute_result"
    }
   ],
   "source": [
    "gdf = gdf.reset_index()\n",
    "gdf"
   ],
   "metadata": {
    "collapsed": false,
    "ExecuteTime": {
     "end_time": "2024-08-02T13:16:02.885115Z",
     "start_time": "2024-08-02T13:16:02.808401Z"
    }
   },
   "id": "1f5e7ea6fbf56c02",
   "execution_count": 3
  },
  {
   "cell_type": "code",
   "outputs": [],
   "source": [
    "outfolder = \"C:/Users/eleonore.kong/Documents/NGE/hexa\"\n",
    "\n",
    "def aggregate_data(gdf, outfolder, column):\n",
    "\n",
    "    def percentile(n):\n",
    "        def percentile_(x):\n",
    "            return np.percentile(x, n)\n",
    "        percentile_.__name__ = f'percentile_{n}'\n",
    "        return percentile_\n",
    "    \n",
    "    gdf_stats = gdf.groupby(column).agg(\n",
    "        {\n",
    "            \"velocity\": [\n",
    "                \"size\",\n",
    "                \"mean\",\n",
    "                \"median\",\n",
    "                percentile(80),\n",
    "                percentile(20)\n",
    "            ]\n",
    "         \n",
    "         }\n",
    "    )\n",
    "    gdf_stats.columns = ['_'.join(col) for col in gdf_stats.columns]\n",
    "    gdf_stats = gdf_stats.reset_index()\n",
    "    \n",
    "    return gdf_stats\n",
    "    "
   ],
   "metadata": {
    "collapsed": false,
    "ExecuteTime": {
     "end_time": "2024-08-02T13:16:02.900763Z",
     "start_time": "2024-08-02T13:16:02.886189Z"
    }
   },
   "id": "4dac40330fab6590",
   "execution_count": 4
  },
  {
   "cell_type": "code",
   "outputs": [
    {
     "data": {
      "text/plain": "            id                                           geometry\n0            1  POLYGON ((-6314058.640 -3812951.976, -6314029....\n1            2  POLYGON ((-6314058.640 -3813051.976, -6314029....\n2            3  POLYGON ((-6314058.640 -3813151.976, -6314029....\n3            4  POLYGON ((-6314058.640 -3813251.976, -6314029....\n4            5  POLYGON ((-6314058.640 -3813351.976, -6314029....\n...        ...                                                ...\n217795  217796  POLYGON ((-6282708.520 -3872451.976, -6282679....\n217796  217797  POLYGON ((-6282708.520 -3872551.976, -6282679....\n217797  217798  POLYGON ((-6282708.520 -3872651.976, -6282679....\n217798  217799  POLYGON ((-6282708.520 -3872751.976, -6282679....\n217799  217800  POLYGON ((-6282708.520 -3872851.976, -6282679....\n\n[217800 rows x 2 columns]",
      "text/html": "<div>\n<style scoped>\n    .dataframe tbody tr th:only-of-type {\n        vertical-align: middle;\n    }\n\n    .dataframe tbody tr th {\n        vertical-align: top;\n    }\n\n    .dataframe thead th {\n        text-align: right;\n    }\n</style>\n<table border=\"1\" class=\"dataframe\">\n  <thead>\n    <tr style=\"text-align: right;\">\n      <th></th>\n      <th>id</th>\n      <th>geometry</th>\n    </tr>\n  </thead>\n  <tbody>\n    <tr>\n      <th>0</th>\n      <td>1</td>\n      <td>POLYGON ((-6314058.640 -3812951.976, -6314029....</td>\n    </tr>\n    <tr>\n      <th>1</th>\n      <td>2</td>\n      <td>POLYGON ((-6314058.640 -3813051.976, -6314029....</td>\n    </tr>\n    <tr>\n      <th>2</th>\n      <td>3</td>\n      <td>POLYGON ((-6314058.640 -3813151.976, -6314029....</td>\n    </tr>\n    <tr>\n      <th>3</th>\n      <td>4</td>\n      <td>POLYGON ((-6314058.640 -3813251.976, -6314029....</td>\n    </tr>\n    <tr>\n      <th>4</th>\n      <td>5</td>\n      <td>POLYGON ((-6314058.640 -3813351.976, -6314029....</td>\n    </tr>\n    <tr>\n      <th>...</th>\n      <td>...</td>\n      <td>...</td>\n    </tr>\n    <tr>\n      <th>217795</th>\n      <td>217796</td>\n      <td>POLYGON ((-6282708.520 -3872451.976, -6282679....</td>\n    </tr>\n    <tr>\n      <th>217796</th>\n      <td>217797</td>\n      <td>POLYGON ((-6282708.520 -3872551.976, -6282679....</td>\n    </tr>\n    <tr>\n      <th>217797</th>\n      <td>217798</td>\n      <td>POLYGON ((-6282708.520 -3872651.976, -6282679....</td>\n    </tr>\n    <tr>\n      <th>217798</th>\n      <td>217799</td>\n      <td>POLYGON ((-6282708.520 -3872751.976, -6282679....</td>\n    </tr>\n    <tr>\n      <th>217799</th>\n      <td>217800</td>\n      <td>POLYGON ((-6282708.520 -3872851.976, -6282679....</td>\n    </tr>\n  </tbody>\n</table>\n<p>217800 rows × 2 columns</p>\n</div>"
     },
     "execution_count": 5,
     "metadata": {},
     "output_type": "execute_result"
    }
   ],
   "source": [
    "grid_path = \"C:/Users/eleonore.kong/Documents/NGE/hexagones_100m.geojson\"\n",
    "grid = gpd.read_file(grid_path)\n",
    "grid = grid[['id', 'geometry']]\n",
    "grid"
   ],
   "metadata": {
    "collapsed": false,
    "ExecuteTime": {
     "end_time": "2024-08-02T13:16:41.824394Z",
     "start_time": "2024-08-02T13:16:02.902937Z"
    }
   },
   "id": "9de1aea78c1715f",
   "execution_count": 5
  },
  {
   "cell_type": "code",
   "outputs": [],
   "source": [
    "for column in ['id']:\n",
    "    outfile = outfolder + 'insar_points_full_hex100m_stats_' + column + \".geojson\"\n",
    "    stats = aggregate_data(gdf, outfolder, column)\n",
    "    gdf_stats = grid.merge(stats, right_on=\"id\", left_on=\"id\")\n",
    "    gdf_stats.to_file(outfile, driver=\"GeoJSON\")"
   ],
   "metadata": {
    "collapsed": false,
    "ExecuteTime": {
     "end_time": "2024-08-02T13:16:44.152977Z",
     "start_time": "2024-08-02T13:16:41.826505Z"
    }
   },
   "id": "9437aae0d9449dc3",
   "execution_count": 6
  }
 ],
 "metadata": {
  "kernelspec": {
   "display_name": "Python 3",
   "language": "python",
   "name": "python3"
  },
  "language_info": {
   "codemirror_mode": {
    "name": "ipython",
    "version": 2
   },
   "file_extension": ".py",
   "mimetype": "text/x-python",
   "name": "python",
   "nbconvert_exporter": "python",
   "pygments_lexer": "ipython2",
   "version": "2.7.6"
  }
 },
 "nbformat": 4,
 "nbformat_minor": 5
}
