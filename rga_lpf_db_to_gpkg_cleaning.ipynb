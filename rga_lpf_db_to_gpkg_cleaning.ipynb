{
 "cells": [
  {
   "cell_type": "code",
   "execution_count": 9,
   "id": "initial_id",
   "metadata": {
    "collapsed": true,
    "ExecuteTime": {
     "end_time": "2024-11-27T08:28:57.490060Z",
     "start_time": "2024-11-27T08:28:57.479538Z"
    }
   },
   "outputs": [],
   "source": [
    "import geopandas as gpd\n",
    "import numpy as np\n",
    "import pandas as pd\n",
    "from shapely import wkt\n",
    "import pyogrio\n",
    "from tqdm import tqdm\n",
    "from datetime import datetime, timedelta\n",
    "import calendar\n",
    "\n",
    "geopackage_path = \"C:/Users/eleonore.kong/Documents/InSAR/DATA/lpf_egms_data.gpkg\"\n",
    "start = 0\n",
    "step = 1000000\n",
    "n_pid = 6110313\n",
    "n = 86461332\n",
    "\n",
    "ymax = 246.4417429007648\n",
    "ymin = -602.0367860041503"
   ]
  },
  {
   "cell_type": "code",
   "outputs": [],
   "source": [
    "# pid = pyogrio.read_dataframe(geopackage_path, sql='SELECT DISTINCT PID FROM data')\n",
    "# pid_list = pid['pid'].to_list()\n",
    "# pid_sublists = [pid_list[i:i + step] for i in range(0, len(pid_list), step)]"
   ],
   "metadata": {
    "collapsed": false,
    "ExecuteTime": {
     "end_time": "2024-11-27T08:28:57.505895Z",
     "start_time": "2024-11-27T08:28:57.493222Z"
    }
   },
   "id": "895ed624ac1a7028",
   "execution_count": 10
  },
  {
   "cell_type": "code",
   "outputs": [],
   "source": [
    "# a = 0\n",
    "# for i in tqdm(range(int(n/step)+1)):\n",
    "#     df = pyogrio.read_dataframe(geopackage_path, layer='data_all', skip_features=start, max_features=step)\n",
    "#     df.drop('index_right', axis=1, inplace=True)\n",
    "#     df['NIVEAU'].fillna(0, inplace=True)\n",
    "#     df.loc[df['Type'] == 'Peak', 'gap_insar_swi_trough'] = np.nan\n",
    "#     df.loc[df['Type'] == 'Trough', 'gap_insar_swi_peak'] = np.nan\n",
    "#     df['Value'] = df['Value'].round(decimals=7)\n",
    "#     df['value_diff'] = df['value_diff'] * 1000 \n",
    "#     df['value_diff'] = df['value_diff'].round(decimals=3)\n",
    "#     df['value_diff_abs'] = df['value_diff_abs'] * 1000 \n",
    "#     df['value_diff_abs'] = df['value_diff_abs'].round(decimals=3)\n",
    "#     df.rename(columns={'NIVEAU': 'rga_risque'})\n",
    "#     if a == 0:\n",
    "#         pyogrio.write_dataframe(df, geopackage_path, layer=\"data\", driver=\"GPKG\")\n",
    "#     else:\n",
    "#         pyogrio.write_dataframe(df, geopackage_path, layer=\"data\", driver=\"GPKG\", append=True)\n",
    "#     start += step\n",
    "#     a += 1"
   ],
   "metadata": {
    "collapsed": false,
    "ExecuteTime": {
     "end_time": "2024-11-27T08:28:57.521748Z",
     "start_time": "2024-11-27T08:28:57.507046Z"
    }
   },
   "id": "45ce886e44ade40e",
   "execution_count": 11
  },
  {
   "cell_type": "code",
   "outputs": [],
   "source": [
    "# a = 0\n",
    "# for pids in tqdm(pid_sublists):\n",
    "#     pids = tuple(pids)\n",
    "#     where_filter = f\"pid IN {pids}\"\n",
    "#     df = pyogrio.read_dataframe(geopackage_path, layer='data', where=where_filter)\n",
    "#     df['value_diff_abs_denorm'] = df['value_diff_abs'] /1000 * (ymax - ymin)\n",
    "#     grouped = df.groupby(['pid', 'Type'])[['value_diff_abs', 'value_diff_abs_denorm']].median().reset_index()\n",
    "#     grouped = grouped.rename(columns={'value_diff_abs': 'median_value_diff_abs_2016_2021',\n",
    "#                                       'value_diff_abs_denorm': 'median_value_diff_abs_denorm_2016_2021'})\n",
    "#     df = df.merge(grouped, on=['pid', 'Type'], how='left')\n",
    "#     df.drop('index', axis=1, inplace=True)\n",
    "#     \n",
    "#     if a == 0:\n",
    "#         pyogrio.write_dataframe(df, geopackage_path, layer=\"data_up\", driver=\"GPKG\")\n",
    "#     else:\n",
    "#         pyogrio.write_dataframe(df, geopackage_path, layer=\"data_up\", driver=\"GPKG\", append=True)\n",
    "#     start += step\n",
    "#     a += 1"
   ],
   "metadata": {
    "collapsed": false,
    "ExecuteTime": {
     "end_time": "2024-11-27T08:28:57.537849Z",
     "start_time": "2024-11-27T08:28:57.523846Z"
    }
   },
   "id": "5d025e6c7b416219",
   "execution_count": 12
  },
  {
   "cell_type": "code",
   "outputs": [],
   "source": [
    "# def delta_days(row, type):\n",
    "#     n_days_in_month = calendar.monthrange(row['year'], row[type])[1]\n",
    "#     target_date = datetime(row['year'], row[type], 1)\n",
    "#     difference = (row['Date'] - target_date).days\n",
    "#     if (difference > 0) & (difference <= n_days_in_month):\n",
    "#         difference = 0\n",
    "#     if difference > n_days_in_month:\n",
    "#         difference -= n_days_in_month\n",
    "#     return difference\n",
    "# \n",
    "# a = 0\n",
    "# for i in tqdm(range(int(n/step)+1)[:1]):\n",
    "#     df = pyogrio.read_dataframe(geopackage_path, layer='data_upd', skip_features=start, max_features=step)\n",
    "    # df['gap_insar_swi_trough_days'] = df.apply(lambda row: delta_days(row, 'month_trough'), axis=1)\n",
    "    # df['gap_insar_swi_peak_days'] = df.apply(lambda row: delta_days(row, 'month_peak'), axis=1)\n",
    "    # df.loc[df['Type'] == 'Peak', 'gap_insar_swi_trough_days'] = np.nan\n",
    "    # df.loc[df['Type'] == 'Trough', 'gap_insar_swi_peak_days'] = np.nan\n",
    "    # df['amp_diff_to_median'] = df['value_diff_abs_denorm'] - df['median_value_diff_abs_denorm_2016_2021']\n",
    "    # \n",
    "    # if a == 0:\n",
    "    #     pyogrio.write_dataframe(df, geopackage_path, layer=\"data_upd\", driver=\"GPKG\")\n",
    "    # else:\n",
    "    #     pyogrio.write_dataframe(df, geopackage_path, layer=\"data_upd\", driver=\"GPKG\", append=True)\n",
    "    # start += step\n",
    "    # a += 1"
   ],
   "metadata": {
    "collapsed": false,
    "ExecuteTime": {
     "end_time": "2024-11-27T08:28:57.553818Z",
     "start_time": "2024-11-27T08:28:57.540007Z"
    }
   },
   "id": "b8c4e1511702fbe7",
   "execution_count": 13
  },
  {
   "cell_type": "code",
   "outputs": [
    {
     "name": "stderr",
     "output_type": "stream",
     "text": [
      "100%|██████████| 87/87 [1:03:53<00:00, 44.06s/it]\n"
     ]
    }
   ],
   "source": [
    "a = 0\n",
    "for i in tqdm(range(int(n/step)+1)):\n",
    "    df = pyogrio.read_dataframe(geopackage_path, layer='data_upd', skip_features=start, max_features=step)\n",
    "    df = df[df['is_rga']==True]\n",
    "    if a == 0:\n",
    "        pyogrio.write_dataframe(df, geopackage_path, layer=\"data_up\", driver=\"GPKG\")\n",
    "    else:\n",
    "        pyogrio.write_dataframe(df, geopackage_path, layer=\"data_up\", driver=\"GPKG\", append=True)\n",
    "    start += step\n",
    "    a += 1"
   ],
   "metadata": {
    "collapsed": false,
    "ExecuteTime": {
     "end_time": "2024-11-27T09:32:50.999775Z",
     "start_time": "2024-11-27T08:28:57.554900Z"
    }
   },
   "id": "9246fde336116672",
   "execution_count": 14
  }
 ],
 "metadata": {
  "kernelspec": {
   "display_name": "Python 3",
   "language": "python",
   "name": "python3"
  },
  "language_info": {
   "codemirror_mode": {
    "name": "ipython",
    "version": 2
   },
   "file_extension": ".py",
   "mimetype": "text/x-python",
   "name": "python",
   "nbconvert_exporter": "python",
   "pygments_lexer": "ipython2",
   "version": "2.7.6"
  }
 },
 "nbformat": 4,
 "nbformat_minor": 5
}
