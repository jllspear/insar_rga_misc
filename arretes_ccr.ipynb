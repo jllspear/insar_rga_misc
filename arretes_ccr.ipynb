{
 "cells": [
  {
   "cell_type": "code",
   "execution_count": 1,
   "id": "initial_id",
   "metadata": {
    "collapsed": true,
    "ExecuteTime": {
     "end_time": "2024-11-14T09:28:25.429263Z",
     "start_time": "2024-11-14T09:28:24.998573Z"
    }
   },
   "outputs": [],
   "source": [
    "import pandas as pd\n",
    "import geopandas as gpd\n",
    "import pyogrio"
   ]
  },
  {
   "cell_type": "code",
   "outputs": [
    {
     "data": {
      "text/plain": "           code NOR                                        Arrêté lien  \\\n1099   IOME2330891A  https://catastrophes-naturelles.ccr.fr/detail-...   \n1698   IOME2324730A  https://catastrophes-naturelles.ccr.fr/detail-...   \n1708   IOME2324730A  https://catastrophes-naturelles.ccr.fr/detail-...   \n1710   IOME2324730A  https://catastrophes-naturelles.ccr.fr/detail-...   \n1730   IOME2324730A  https://catastrophes-naturelles.ccr.fr/detail-...   \n...             ...                                                ...   \n11805  INTE1727359A  https://catastrophes-naturelles.ccr.fr/detail-...   \n11806  INTE1727359A  https://catastrophes-naturelles.ccr.fr/detail-...   \n11807  INTE1727359A  https://catastrophes-naturelles.ccr.fr/detail-...   \n11808  INTE1727359A  https://catastrophes-naturelles.ccr.fr/detail-...   \n11809  INTE1727359A  https://catastrophes-naturelles.ccr.fr/detail-...   \n\n       Arrêté numéro  Insee                Commune Début reconnaissance  \\\n1099             834  21535     RUFFEY LES ECHIREY           30/09/2021   \n1698             829  14059     BENERVILLE SUR MER           01/07/2021   \n1708             829  16015              ANGOULEME           01/04/2016   \n1710             829  16120                  DIRAC           01/01/2016   \n1730             829  27216            EMALLEVILLE           01/01/2020   \n...              ...    ...                    ...                  ...   \n11805            662  85266          SAINT PROUANT           01/04/2016   \n11806            662  86207         LA ROCHE POSAY           01/01/2016   \n11807            662  88206  GIRONCOURT SUR VRAINE           01/04/2016   \n11808            662  89316               PROVENCY           01/07/2016   \n11809            662  95183           COURDIMANCHE           01/01/2016   \n\n      Fin reconnaissance   Arrêté du Parution au JO le       Péril Franchise  \\\n1099          31/12/2021  21/11/2023        10/12/2023  Sécheresse         -   \n1698          31/12/2021  19/09/2023        20/10/2023  Sécheresse         -   \n1708          30/09/2016  19/09/2023        20/10/2023  Sécheresse         -   \n1710          06/12/2016  19/09/2023        20/10/2023  Sécheresse         -   \n1730          03/11/2020  19/09/2023        20/10/2023  Sécheresse         -   \n...                  ...         ...               ...         ...       ...   \n11805         30/09/2016  24/10/2017        01/11/2017  Sécheresse         -   \n11806         31/03/2016  24/10/2017        01/11/2017  Sécheresse    Simple   \n11807         31/12/2016  24/10/2017        01/11/2017  Sécheresse         -   \n11808         30/09/2016  24/10/2017        01/11/2017  Sécheresse         -   \n11809         30/09/2016  24/10/2017        01/11/2017  Sécheresse         -   \n\n           Décision  annee_debut_reco  annee_fin_reco  \n1099   Non reconnue              2021            2021  \n1698   Non reconnue              2021            2021  \n1708   Non reconnue              2016            2016  \n1710   Non reconnue              2016            2016  \n1730   Non reconnue              2020            2020  \n...             ...               ...             ...  \n11805  Non reconnue              2016            2016  \n11806      Reconnue              2016            2016  \n11807  Non reconnue              2016            2016  \n11808  Non reconnue              2016            2016  \n11809  Non reconnue              2016            2016  \n\n[2884 rows x 14 columns]",
      "text/html": "<div>\n<style scoped>\n    .dataframe tbody tr th:only-of-type {\n        vertical-align: middle;\n    }\n\n    .dataframe tbody tr th {\n        vertical-align: top;\n    }\n\n    .dataframe thead th {\n        text-align: right;\n    }\n</style>\n<table border=\"1\" class=\"dataframe\">\n  <thead>\n    <tr style=\"text-align: right;\">\n      <th></th>\n      <th>code NOR</th>\n      <th>Arrêté lien</th>\n      <th>Arrêté numéro</th>\n      <th>Insee</th>\n      <th>Commune</th>\n      <th>Début reconnaissance</th>\n      <th>Fin reconnaissance</th>\n      <th>Arrêté du</th>\n      <th>Parution au JO le</th>\n      <th>Péril</th>\n      <th>Franchise</th>\n      <th>Décision</th>\n      <th>annee_debut_reco</th>\n      <th>annee_fin_reco</th>\n    </tr>\n  </thead>\n  <tbody>\n    <tr>\n      <th>1099</th>\n      <td>IOME2330891A</td>\n      <td>https://catastrophes-naturelles.ccr.fr/detail-...</td>\n      <td>834</td>\n      <td>21535</td>\n      <td>RUFFEY LES ECHIREY</td>\n      <td>30/09/2021</td>\n      <td>31/12/2021</td>\n      <td>21/11/2023</td>\n      <td>10/12/2023</td>\n      <td>Sécheresse</td>\n      <td>-</td>\n      <td>Non reconnue</td>\n      <td>2021</td>\n      <td>2021</td>\n    </tr>\n    <tr>\n      <th>1698</th>\n      <td>IOME2324730A</td>\n      <td>https://catastrophes-naturelles.ccr.fr/detail-...</td>\n      <td>829</td>\n      <td>14059</td>\n      <td>BENERVILLE SUR MER</td>\n      <td>01/07/2021</td>\n      <td>31/12/2021</td>\n      <td>19/09/2023</td>\n      <td>20/10/2023</td>\n      <td>Sécheresse</td>\n      <td>-</td>\n      <td>Non reconnue</td>\n      <td>2021</td>\n      <td>2021</td>\n    </tr>\n    <tr>\n      <th>1708</th>\n      <td>IOME2324730A</td>\n      <td>https://catastrophes-naturelles.ccr.fr/detail-...</td>\n      <td>829</td>\n      <td>16015</td>\n      <td>ANGOULEME</td>\n      <td>01/04/2016</td>\n      <td>30/09/2016</td>\n      <td>19/09/2023</td>\n      <td>20/10/2023</td>\n      <td>Sécheresse</td>\n      <td>-</td>\n      <td>Non reconnue</td>\n      <td>2016</td>\n      <td>2016</td>\n    </tr>\n    <tr>\n      <th>1710</th>\n      <td>IOME2324730A</td>\n      <td>https://catastrophes-naturelles.ccr.fr/detail-...</td>\n      <td>829</td>\n      <td>16120</td>\n      <td>DIRAC</td>\n      <td>01/01/2016</td>\n      <td>06/12/2016</td>\n      <td>19/09/2023</td>\n      <td>20/10/2023</td>\n      <td>Sécheresse</td>\n      <td>-</td>\n      <td>Non reconnue</td>\n      <td>2016</td>\n      <td>2016</td>\n    </tr>\n    <tr>\n      <th>1730</th>\n      <td>IOME2324730A</td>\n      <td>https://catastrophes-naturelles.ccr.fr/detail-...</td>\n      <td>829</td>\n      <td>27216</td>\n      <td>EMALLEVILLE</td>\n      <td>01/01/2020</td>\n      <td>03/11/2020</td>\n      <td>19/09/2023</td>\n      <td>20/10/2023</td>\n      <td>Sécheresse</td>\n      <td>-</td>\n      <td>Non reconnue</td>\n      <td>2020</td>\n      <td>2020</td>\n    </tr>\n    <tr>\n      <th>...</th>\n      <td>...</td>\n      <td>...</td>\n      <td>...</td>\n      <td>...</td>\n      <td>...</td>\n      <td>...</td>\n      <td>...</td>\n      <td>...</td>\n      <td>...</td>\n      <td>...</td>\n      <td>...</td>\n      <td>...</td>\n      <td>...</td>\n      <td>...</td>\n    </tr>\n    <tr>\n      <th>11805</th>\n      <td>INTE1727359A</td>\n      <td>https://catastrophes-naturelles.ccr.fr/detail-...</td>\n      <td>662</td>\n      <td>85266</td>\n      <td>SAINT PROUANT</td>\n      <td>01/04/2016</td>\n      <td>30/09/2016</td>\n      <td>24/10/2017</td>\n      <td>01/11/2017</td>\n      <td>Sécheresse</td>\n      <td>-</td>\n      <td>Non reconnue</td>\n      <td>2016</td>\n      <td>2016</td>\n    </tr>\n    <tr>\n      <th>11806</th>\n      <td>INTE1727359A</td>\n      <td>https://catastrophes-naturelles.ccr.fr/detail-...</td>\n      <td>662</td>\n      <td>86207</td>\n      <td>LA ROCHE POSAY</td>\n      <td>01/01/2016</td>\n      <td>31/03/2016</td>\n      <td>24/10/2017</td>\n      <td>01/11/2017</td>\n      <td>Sécheresse</td>\n      <td>Simple</td>\n      <td>Reconnue</td>\n      <td>2016</td>\n      <td>2016</td>\n    </tr>\n    <tr>\n      <th>11807</th>\n      <td>INTE1727359A</td>\n      <td>https://catastrophes-naturelles.ccr.fr/detail-...</td>\n      <td>662</td>\n      <td>88206</td>\n      <td>GIRONCOURT SUR VRAINE</td>\n      <td>01/04/2016</td>\n      <td>31/12/2016</td>\n      <td>24/10/2017</td>\n      <td>01/11/2017</td>\n      <td>Sécheresse</td>\n      <td>-</td>\n      <td>Non reconnue</td>\n      <td>2016</td>\n      <td>2016</td>\n    </tr>\n    <tr>\n      <th>11808</th>\n      <td>INTE1727359A</td>\n      <td>https://catastrophes-naturelles.ccr.fr/detail-...</td>\n      <td>662</td>\n      <td>89316</td>\n      <td>PROVENCY</td>\n      <td>01/07/2016</td>\n      <td>30/09/2016</td>\n      <td>24/10/2017</td>\n      <td>01/11/2017</td>\n      <td>Sécheresse</td>\n      <td>-</td>\n      <td>Non reconnue</td>\n      <td>2016</td>\n      <td>2016</td>\n    </tr>\n    <tr>\n      <th>11809</th>\n      <td>INTE1727359A</td>\n      <td>https://catastrophes-naturelles.ccr.fr/detail-...</td>\n      <td>662</td>\n      <td>95183</td>\n      <td>COURDIMANCHE</td>\n      <td>01/01/2016</td>\n      <td>30/09/2016</td>\n      <td>24/10/2017</td>\n      <td>01/11/2017</td>\n      <td>Sécheresse</td>\n      <td>-</td>\n      <td>Non reconnue</td>\n      <td>2016</td>\n      <td>2016</td>\n    </tr>\n  </tbody>\n</table>\n<p>2884 rows × 14 columns</p>\n</div>"
     },
     "execution_count": 2,
     "metadata": {},
     "output_type": "execute_result"
    }
   ],
   "source": [
    "df = pd.read_csv(\"C:/Users/eleonore.kong/Documents/InSAR/ccr_arretes.csv\")\n",
    "df = df[df['Péril'] == 'Sécheresse']\n",
    "# df = df[df['Décision'] == 'Reconnue']\n",
    "df['annee_debut_reco'] = df['Début reconnaissance'].str[-4:].astype(int)\n",
    "df['annee_fin_reco'] = df['Fin reconnaissance'].str[-4:].astype(int)\n",
    "df = df[(df['annee_debut_reco'] > 2015) & (df['annee_debut_reco'] < 2022)]\n",
    "df"
   ],
   "metadata": {
    "collapsed": false,
    "ExecuteTime": {
     "end_time": "2024-11-14T09:28:25.523036Z",
     "start_time": "2024-11-14T09:28:25.431263Z"
    }
   },
   "id": "801191ce1283c141",
   "execution_count": 2
  },
  {
   "cell_type": "code",
   "outputs": [],
   "source": [
    "data = pd.DataFrame(df.groupby(['Insee', 'Décision']).size()).reset_index()\n",
    "data = data.rename(columns={0: 'Count'})\n",
    "data = data.pivot_table(index=['Insee'], columns='Décision', values='Count', fill_value=0)\n",
    "\n",
    "data.reset_index(inplace=True)\n",
    "data.reset_index(drop=True, inplace=True)"
   ],
   "metadata": {
    "collapsed": false,
    "ExecuteTime": {
     "end_time": "2024-11-14T09:28:25.555138Z",
     "start_time": "2024-11-14T09:28:25.524044Z"
    }
   },
   "id": "99012533fbc14926",
   "execution_count": 3
  },
  {
   "cell_type": "code",
   "outputs": [],
   "source": [
    "gdf = pyogrio.read_dataframe(\"C:/Users/eleonore.kong/Documents/InSAR/communes.geojson\")\n",
    "joined = gdf.merge(data, left_on='insee_com', right_on='Insee', how='left')"
   ],
   "metadata": {
    "collapsed": false,
    "ExecuteTime": {
     "end_time": "2024-11-14T09:29:54.530390Z",
     "start_time": "2024-11-14T09:28:25.556141Z"
    }
   },
   "id": "176069b994c2e3f5",
   "execution_count": 4
  },
  {
   "cell_type": "code",
   "outputs": [],
   "source": [
    "pyogrio.write_dataframe(joined,\"C:/Users/eleonore.kong/Documents/InSAR/communes_catnat_secheresse.gpkg\", 'communes_2016-2021')"
   ],
   "metadata": {
    "collapsed": false,
    "ExecuteTime": {
     "end_time": "2024-11-14T09:29:58.087395Z",
     "start_time": "2024-11-14T09:29:54.532389Z"
    }
   },
   "id": "dc8b776e469ceb2c",
   "execution_count": 5
  }
 ],
 "metadata": {
  "kernelspec": {
   "display_name": "Python 3",
   "language": "python",
   "name": "python3"
  },
  "language_info": {
   "codemirror_mode": {
    "name": "ipython",
    "version": 2
   },
   "file_extension": ".py",
   "mimetype": "text/x-python",
   "name": "python",
   "nbconvert_exporter": "python",
   "pygments_lexer": "ipython2",
   "version": "2.7.6"
  }
 },
 "nbformat": 4,
 "nbformat_minor": 5
}
