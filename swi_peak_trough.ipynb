{
 "cells": [
  {
   "cell_type": "code",
   "execution_count": 36,
   "id": "initial_id",
   "metadata": {
    "collapsed": true,
    "ExecuteTime": {
     "end_time": "2024-11-18T11:05:08.967226Z",
     "start_time": "2024-11-18T11:05:08.948452Z"
    }
   },
   "outputs": [],
   "source": [
    "import pyogrio\n",
    "import geopandas as gpd\n",
    "import pandas as pd\n",
    "from tqdm import tqdm\n",
    "\n",
    "geopackage_path = 'C:/Users/eleonore.kong/Documents/InSAR/SWI/SWI_Package_1969-2023.gpkg'"
   ]
  },
  {
   "cell_type": "code",
   "outputs": [
    {
     "data": {
      "text/plain": "         SWI_UNIF_MENS3  YEAR  MONTH                         geometry\n0                 1.137  2014      1   POINT (641374.000 7106309.000)\n1                 1.120  2014      2   POINT (641374.000 7106309.000)\n2                 1.092  2014      3   POINT (641374.000 7106309.000)\n3                 1.009  2014      4   POINT (641374.000 7106309.000)\n4                 0.897  2014      5   POINT (641374.000 7106309.000)\n...                 ...   ...    ...                              ...\n1077715           0.147  2023      8  POINT (1215772.000 6046242.000)\n1077716           0.065  2023      9  POINT (1215772.000 6046242.000)\n1077717           0.098  2023     10  POINT (1215772.000 6046242.000)\n1077718           0.381  2023     11  POINT (1215772.000 6046242.000)\n1077719           0.678  2023     12  POINT (1215772.000 6046242.000)\n\n[1077720 rows x 4 columns]",
      "text/html": "<div>\n<style scoped>\n    .dataframe tbody tr th:only-of-type {\n        vertical-align: middle;\n    }\n\n    .dataframe tbody tr th {\n        vertical-align: top;\n    }\n\n    .dataframe thead th {\n        text-align: right;\n    }\n</style>\n<table border=\"1\" class=\"dataframe\">\n  <thead>\n    <tr style=\"text-align: right;\">\n      <th></th>\n      <th>SWI_UNIF_MENS3</th>\n      <th>YEAR</th>\n      <th>MONTH</th>\n      <th>geometry</th>\n    </tr>\n  </thead>\n  <tbody>\n    <tr>\n      <th>0</th>\n      <td>1.137</td>\n      <td>2014</td>\n      <td>1</td>\n      <td>POINT (641374.000 7106309.000)</td>\n    </tr>\n    <tr>\n      <th>1</th>\n      <td>1.120</td>\n      <td>2014</td>\n      <td>2</td>\n      <td>POINT (641374.000 7106309.000)</td>\n    </tr>\n    <tr>\n      <th>2</th>\n      <td>1.092</td>\n      <td>2014</td>\n      <td>3</td>\n      <td>POINT (641374.000 7106309.000)</td>\n    </tr>\n    <tr>\n      <th>3</th>\n      <td>1.009</td>\n      <td>2014</td>\n      <td>4</td>\n      <td>POINT (641374.000 7106309.000)</td>\n    </tr>\n    <tr>\n      <th>4</th>\n      <td>0.897</td>\n      <td>2014</td>\n      <td>5</td>\n      <td>POINT (641374.000 7106309.000)</td>\n    </tr>\n    <tr>\n      <th>...</th>\n      <td>...</td>\n      <td>...</td>\n      <td>...</td>\n      <td>...</td>\n    </tr>\n    <tr>\n      <th>1077715</th>\n      <td>0.147</td>\n      <td>2023</td>\n      <td>8</td>\n      <td>POINT (1215772.000 6046242.000)</td>\n    </tr>\n    <tr>\n      <th>1077716</th>\n      <td>0.065</td>\n      <td>2023</td>\n      <td>9</td>\n      <td>POINT (1215772.000 6046242.000)</td>\n    </tr>\n    <tr>\n      <th>1077717</th>\n      <td>0.098</td>\n      <td>2023</td>\n      <td>10</td>\n      <td>POINT (1215772.000 6046242.000)</td>\n    </tr>\n    <tr>\n      <th>1077718</th>\n      <td>0.381</td>\n      <td>2023</td>\n      <td>11</td>\n      <td>POINT (1215772.000 6046242.000)</td>\n    </tr>\n    <tr>\n      <th>1077719</th>\n      <td>0.678</td>\n      <td>2023</td>\n      <td>12</td>\n      <td>POINT (1215772.000 6046242.000)</td>\n    </tr>\n  </tbody>\n</table>\n<p>1077720 rows × 4 columns</p>\n</div>"
     },
     "execution_count": 37,
     "metadata": {},
     "output_type": "execute_result"
    }
   ],
   "source": [
    "df = pyogrio.read_dataframe(geopackage_path, layer='data_swi')\n",
    "df"
   ],
   "metadata": {
    "collapsed": false,
    "ExecuteTime": {
     "end_time": "2024-11-18T11:05:12.005807Z",
     "start_time": "2024-11-18T11:05:08.970238Z"
    }
   },
   "id": "19e863dd1b8a7906",
   "execution_count": 37
  },
  {
   "cell_type": "code",
   "outputs": [],
   "source": [
    "years = [2016,2017,2018,2019,2020,2021]\n",
    "years_df = []\n",
    "for year in years:\n",
    "    df_year = df[df['YEAR'] == year]\n",
    "    df_year = df_year.sort_values(by=['geometry', 'SWI_UNIF_MENS3'], ascending=True)\n",
    "    df_low = df_year.groupby('geometry').first()\n",
    "    df_high = df_year.groupby('geometry').last()\n",
    "    \n",
    "    df_low_high = df_low.merge(df_high[['MONTH', 'SWI_UNIF_MENS3']], on='geometry', how='outer', suffixes=('_trough', '_peak'))\n",
    "    df_low_high.reset_index(inplace=True)\n",
    "    years_df.append(df_low_high)\n",
    "\n",
    "gdf = pd.concat(years_df, axis=0)\n",
    "gdf = gpd.GeoDataFrame(gdf, crs=2154)\n",
    "gdf['geometry'] = gdf['geometry'].buffer(3996, cap_style='square')\n",
    "pyogrio.write_dataframe(gdf, path=geopackage_path, layer='data_swi_peak_trough')"
   ],
   "metadata": {
    "collapsed": false,
    "ExecuteTime": {
     "end_time": "2024-11-18T11:07:12.870308Z",
     "start_time": "2024-11-18T11:07:10.374161Z"
    }
   },
   "id": "d35253b1e97567e7",
   "execution_count": 41
  }
 ],
 "metadata": {
  "kernelspec": {
   "display_name": "Python 3",
   "language": "python",
   "name": "python3"
  },
  "language_info": {
   "codemirror_mode": {
    "name": "ipython",
    "version": 2
   },
   "file_extension": ".py",
   "mimetype": "text/x-python",
   "name": "python",
   "nbconvert_exporter": "python",
   "pygments_lexer": "ipython2",
   "version": "2.7.6"
  }
 },
 "nbformat": 4,
 "nbformat_minor": 5
}
