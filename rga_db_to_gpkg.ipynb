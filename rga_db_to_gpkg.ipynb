{
 "cells": [
  {
   "cell_type": "code",
   "execution_count": 16,
   "id": "initial_id",
   "metadata": {
    "collapsed": true,
    "ExecuteTime": {
     "end_time": "2024-11-08T09:10:10.281947Z",
     "start_time": "2024-11-08T09:10:10.271041Z"
    }
   },
   "outputs": [],
   "source": [
    "import geopandas as gpd\n",
    "import sqlite3\n",
    "\n",
    "import numpy as np\n",
    "import pandas as pd\n",
    "from shapely import wkt\n",
    "import pyogrio\n",
    "from tqdm import tqdm\n",
    "\n",
    "data_raw = \"C:/Users/eleonore.kong/jll.spear/Nicolas Le Corvec - RGA/harmonic_data_tuiles_manquantes.db\"\n",
    "id_geom = \"C:/Users/eleonore.kong/Documents/InSAR/DATA/EGMS_pid_geometry.db\"\n",
    "hex_path = \"C:/Users/eleonore.kong/Documents/InSAR/DATA/grid.gpkg\"\n",
    "geopackage_path = \"C:/Users/eleonore.kong/Documents/InSAR/DATA/harmonic_egms_data_v2.gpkg\"\n",
    "grids = ['grid_1km', 'grid_500m']"
   ]
  },
  {
   "cell_type": "code",
   "outputs": [
    {
     "name": "stdout",
     "output_type": "stream",
     "text": [
      "['harmonic_output_EGMS_L3_E37N26_100km_U'\n",
      " 'harmonic_output_EGMS_L3_E41N27_100km_U']\n"
     ]
    }
   ],
   "source": [
    "# Connect to the SQLite database\n",
    "conn = sqlite3.connect(data_raw)\n",
    "# conn_pid = sqlite3.connect(id_geom)\n",
    "\n",
    "query = \"SELECT name FROM sqlite_master WHERE type='table';\"\n",
    "query_pid = \"SELECT * FROM points\"\n",
    "\n",
    "# Execute the query and get the table names\n",
    "tables = pd.read_sql_query(query, conn)\n",
    "# geom = pd.read_sql_query(query_pid, conn_pid)\n",
    "# conn_pid.close()\n",
    "\n",
    "# hex = [gpd.read_file(hex_path, layer=layer, columns=['id', 'geom']) for layer in grids]\n",
    "# hex = dict(zip(grids, hex))\n",
    "\n",
    "print(tables['name'].values)"
   ],
   "metadata": {
    "collapsed": false,
    "ExecuteTime": {
     "end_time": "2024-11-08T09:10:12.638434Z",
     "start_time": "2024-11-08T09:10:12.605027Z"
    }
   },
   "id": "45ce886e44ade40e",
   "execution_count": 17
  },
  {
   "cell_type": "code",
   "outputs": [],
   "source": [
    "# def med_seasonal_amplitude(row, season):\n",
    "#     years = [2016,2017,2018,2019,2020,2021]\n",
    "#     if season == 'winter':\n",
    "#         years = [year-1 for year in years]\n",
    "#     columns = ['Detrended Amplitude_' + season + '_' + str(year) for year in years]\n",
    "#     amp = [row[column] for column in columns]\n",
    "#     med = np.median(amp)\n",
    "#     return med"
   ],
   "metadata": {
    "collapsed": false,
    "ExecuteTime": {
     "end_time": "2024-11-08T08:29:41.485762Z",
     "start_time": "2024-11-08T08:29:41.472343Z"
    }
   },
   "id": "bc12a6a49f32ead2",
   "execution_count": 13
  },
  {
   "cell_type": "code",
   "outputs": [
    {
     "name": "stdout",
     "output_type": "stream",
     "text": [
      "Found 2 tables\n"
     ]
    },
    {
     "name": "stderr",
     "output_type": "stream",
     "text": [
      "100%|██████████| 2/2 [01:10<00:00, 35.09s/it]\n"
     ]
    }
   ],
   "source": [
    "# Query the table\n",
    "print('Found {} tables'.format(len(tables['name'].values)))\n",
    "i=1\n",
    "\n",
    "for table_name in tqdm(tables['name'].values):\n",
    "\n",
    "    query = (\n",
    "            \"SELECT * FROM \" + table_name +\n",
    "            \" WHERE \\\"Detrended RMS Error\\\" < 10\"\n",
    "    )\n",
    "\n",
    "    # Read the data into a Pandas DataFrame\n",
    "    df = pd.read_sql_query(query, conn)\n",
    "    # df.drop('geometry', axis=1, inplace=True)\n",
    "    # df = df[(df['Phase Angle (theta)'] < -1.5) | (df['Phase Angle (theta)'] > 1.5)]\n",
    "    # df = df[(df['Detrended RMS Error'] < 20)]\n",
    "    # columns_to_keep = [column for column in df.columns if 'Detrended' in column]\n",
    "    # max_columns = [column for column in df.columns if 'Max' in column]\n",
    "    # min_columns = [column for column in df.columns if 'Min' in column]\n",
    "    # mean_columns = [column for column in df.columns if 'Mean' in column]\n",
    "    # columns_to_keep.extend(max_columns)\n",
    "    # columns_to_keep.extend(min_columns)\n",
    "    # columns_to_keep.extend(mean_columns)\n",
    "    columns_to_keep = [column for column in df.columns if not 'Score' in column]\n",
    "    columns_to_keep = [column for column in columns_to_keep if not 'Phase' in column]\n",
    "    # columns_to_keep.append('Phase Angle (theta)')\n",
    "    # columns_to_keep.extend(['pid', 'geometry'])\n",
    "    df = df[columns_to_keep].copy()\n",
    "    df['First_peak_month'] = df['Detrended First Peak Datetime'].str.split('-', expand=True).iloc[:,1].astype(int)\n",
    "    df['First_trough_month'] = df['Detrended First Trough Datetime'].str.split('-', expand=True).iloc[:,1].astype(int)\n",
    "    df['peak_trough_gap'] = abs(df['First_trough_month'] - df['First_peak_month'])\n",
    "    \n",
    "    df = df[(df['peak_trough_gap'] >= 5) & (df['peak_trough_gap'] <= 7) & (df['First_peak_month'] < 4)]\n",
    "    \n",
    "  \n",
    "\n",
    "    # for year in [2016,2017,2018,2019,2020,2021]:\n",
    "    #     df['Detrended Amplitude_'+str(year)] = np.mean([df['Detrended Amplitude_winter_'+str(year-1)], df['Detrended Amplitude_summer_'+str(year)]], axis=0)\n",
    "    # df['Detrended Amplitude winter'] = df.apply(lambda row: med_seasonal_amplitude(row, 'winter'), axis=1)\n",
    "    # df['Detrended Amplitude summer'] = df.apply(lambda row: med_seasonal_amplitude(row, 'summer'), axis=1)\n",
    "    # df['Detrended Amplitude summer-winter diff'] = df['Detrended Amplitude summer'] - df['Detrended Amplitude winter']\n",
    "    # \n",
    "    # pid_list = df['pid'].to_list()    # \n",
    "    # pid_geom = geom[geom['pid'].isin(pid_list)].copy()\n",
    "    # pid_geom['geometry'] = pid_geom['geometry'].apply(wkt.loads)\n",
    "    # # \n",
    "    # df_geom = df.merge(pid_geom, how='left', on='pid')\n",
    "    df['geometry'] = df['geometry'].apply(wkt.loads)\n",
    "    # Convert to a GeoDataFrame\n",
    "    gdf = gpd.GeoDataFrame(df, geometry='geometry', crs='EPSG:4326').to_crs(epsg='2154')\n",
    "    gdf = gdf.reset_index()\n",
    "\n",
    "    # for k, df in hex.items():\n",
    "    #     join = gpd.sjoin(gdf, df, how='inner', predicate='intersects')\n",
    "    #     join = dict(zip(join['index'].to_list(), join['id'].to_list()))\n",
    "    #     gdf[k] = gdf['index'].map(join)\n",
    "\n",
    "    # gdf = gdf.dropna(how='all', subset=grids)\n",
    "    if i == 0:\n",
    "        pyogrio.write_dataframe(gdf, geopackage_path, layer=\"data\", driver=\"GPKG\")\n",
    "    else:\n",
    "        pyogrio.write_dataframe(gdf, geopackage_path, layer=\"data\", driver=\"GPKG\", append=True)\n",
    "        \n",
    "    i+=1\n",
    "    \n",
    "# Close the connection\n",
    "conn.close()"
   ],
   "metadata": {
    "collapsed": false,
    "ExecuteTime": {
     "end_time": "2024-11-08T09:11:26.939540Z",
     "start_time": "2024-11-08T09:10:16.729076Z"
    }
   },
   "id": "54b92b1f792a83eb",
   "execution_count": 18
  }
 ],
 "metadata": {
  "kernelspec": {
   "display_name": "Python 3",
   "language": "python",
   "name": "python3"
  },
  "language_info": {
   "codemirror_mode": {
    "name": "ipython",
    "version": 2
   },
   "file_extension": ".py",
   "mimetype": "text/x-python",
   "name": "python",
   "nbconvert_exporter": "python",
   "pygments_lexer": "ipython2",
   "version": "2.7.6"
  }
 },
 "nbformat": 4,
 "nbformat_minor": 5
}
