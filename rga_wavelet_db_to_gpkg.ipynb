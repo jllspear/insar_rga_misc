{
 "cells": [
  {
   "cell_type": "code",
   "execution_count": 5,
   "id": "initial_id",
   "metadata": {
    "collapsed": true,
    "ExecuteTime": {
     "end_time": "2024-11-05T13:06:46.947917Z",
     "start_time": "2024-11-05T13:06:46.935513Z"
    }
   },
   "outputs": [],
   "source": [
    "import geopandas as gpd\n",
    "import sqlite3\n",
    "\n",
    "import numpy as np\n",
    "import pandas as pd\n",
    "from shapely import wkt\n",
    "import pyogrio\n",
    "from tqdm import tqdm\n",
    "\n",
    "data_raw = \"C:/Users/eleonore.kong/Documents/InSAR/DATA/wavelet_data.db\"\n",
    "id_geom = \"C:/Users/eleonore.kong/Documents/InSAR/DATA/EGMS_pid_geometry.db\"\n",
    "hex_path = \"C:/Users/eleonore.kong/Documents/InSAR/DATA/grid.gpkg\"\n",
    "geopackage_path = \"C:/Users/eleonore.kong/Documents/InSAR/DATA/wavelet_egms_data.gpkg\"\n",
    "# grids = ['grid_1km', 'grid_500m']"
   ]
  },
  {
   "cell_type": "code",
   "outputs": [
    {
     "name": "stdout",
     "output_type": "stream",
     "text": [
      "['wavelet_full_EGMS_L3_E32N28_100km_U', 'wavelet_full_EGMS_L3_E34N25_100km_U', 'wavelet_full_EGMS_L3_E34N22_100km_U', 'wavelet_full_EGMS_L3_E34N26_100km_U', 'wavelet_full_EGMS_L3_E36N25_100km_U', 'wavelet_full_EGMS_L3_E35N27_100km_U', 'wavelet_full_EGMS_L3_E33N27_100km_U', 'wavelet_full_EGMS_L3_E34N30_100km_U', 'wavelet_full_EGMS_L3_E35N29_100km_U', 'wavelet_full_EGMS_L3_E34N29_100km_U', 'wavelet_full_EGMS_L3_E33N28_100km_U', 'wavelet_full_EGMS_L3_E34N23_100km_U', 'wavelet_full_EGMS_L3_E34N27_100km_U', 'wavelet_full_EGMS_L3_E35N24_100km_U', 'wavelet_full_EGMS_L3_E35N28_100km_U', 'wavelet_full_EGMS_L3_E35N25_100km_U', 'wavelet_full_EGMS_L3_E36N23_100km_U', 'wavelet_full_EGMS_L3_E35N26_100km_U', 'wavelet_full_EGMS_L3_E35N22_100km_U', 'wavelet_full_EGMS_L3_E33N29_100km_U', 'wavelet_full_EGMS_L3_E34N28_100km_U', 'wavelet_full_EGMS_L3_E33N23_100km_U', 'wavelet_full_EGMS_L3_E33N22_100km_U', 'wavelet_full_EGMS_L3_E36N21_100km_U', 'wavelet_full_EGMS_L3_E36N22_100km_U', 'wavelet_full_EGMS_L3_E36N24_100km_U', 'wavelet_full_EGMS_L3_E35N23_100km_U', 'wavelet_full_EGMS_L3_E35N21_100km_U', 'wavelet_full_EGMS_L3_E35N30_100km_U', 'wavelet_full_EGMS_L3_E32N29_100km_U', 'wavelet_full_EGMS_L3_E34N24_100km_U', 'wavelet_full_EGMS_L3_E36N26_100km_U', 'wavelet_full_EGMS_L3_E36N27_100km_U', 'wavelet_full_EGMS_L3_E36N28_100km_U', 'wavelet_full_EGMS_L3_E36N29_100km_U', 'wavelet_full_EGMS_L3_E36N30_100km_U', 'wavelet_full_EGMS_L3_E37N21_100km_U', 'wavelet_full_EGMS_L3_E37N22_100km_U', 'wavelet_full_EGMS_L3_E37N24_100km_U', 'wavelet_full_EGMS_L3_E37N23_100km_U', 'wavelet_full_EGMS_L3_E37N25_100km_U', 'wavelet_full_EGMS_L3_E37N26_100km_U', 'wavelet_full_EGMS_L3_E37N27_100km_U', 'wavelet_full_EGMS_L3_E37N28_100km_U', 'wavelet_full_EGMS_L3_E37N29_100km_U', 'wavelet_full_EGMS_L3_E37N30_100km_U', 'wavelet_full_EGMS_L3_E37N31_100km_U', 'wavelet_full_EGMS_L3_E38N22_100km_U', 'wavelet_full_EGMS_L3_E38N23_100km_U', 'wavelet_full_EGMS_L3_E38N24_100km_U', 'wavelet_full_EGMS_L3_E38N25_100km_U', 'wavelet_full_EGMS_L3_E38N26_100km_U', 'wavelet_full_EGMS_L3_E38N27_100km_U', 'wavelet_full_EGMS_L3_E38N28_100km_U', 'wavelet_full_EGMS_L3_E38N29_100km_U', 'wavelet_full_EGMS_L3_E38N30_100km_U', 'wavelet_full_EGMS_L3_E38N31_100km_U', 'wavelet_full_EGMS_L3_E39N22_100km_U', 'wavelet_full_EGMS_L3_E39N23_100km_U', 'wavelet_full_EGMS_L3_E39N24_100km_U', 'wavelet_full_EGMS_L3_E39N25_100km_U', 'wavelet_full_EGMS_L3_E39N26_100km_U', 'wavelet_full_EGMS_L3_E39N27_100km_U', 'wavelet_full_EGMS_L3_E39N28_100km_U', 'wavelet_full_EGMS_L3_E39N29_100km_U', 'wavelet_full_EGMS_L3_E39N30_100km_U', 'wavelet_full_EGMS_L3_E39N31_100km_U', 'wavelet_full_EGMS_L3_E40N22_100km_U', 'wavelet_full_EGMS_L3_E40N23_100km_U', 'wavelet_full_EGMS_L3_E40N24_100km_U', 'wavelet_full_EGMS_L3_E40N25_100km_U', 'wavelet_full_EGMS_L3_E40N26_100km_U', 'wavelet_full_EGMS_L3_E40N27_100km_U', 'wavelet_full_EGMS_L3_E40N28_100km_U', 'wavelet_full_EGMS_L3_E40N29_100km_U', 'wavelet_full_EGMS_L3_E41N22_100km_U', 'wavelet_full_EGMS_L3_E41N23_100km_U', 'wavelet_full_EGMS_L3_E41N24_100km_U', 'wavelet_full_EGMS_L3_E41N25_100km_U', 'wavelet_full_EGMS_L3_E41N27_100km_U', 'wavelet_full_EGMS_L3_E41N28_100km_U']\n"
     ]
    }
   ],
   "source": [
    "# Connect to the SQLite database\n",
    "conn = sqlite3.connect(data_raw)\n",
    "conn_pid = sqlite3.connect(id_geom)\n",
    "\n",
    "query = \"SELECT name FROM sqlite_master WHERE type='table';\"\n",
    "query_pid = \"SELECT * FROM points\"\n",
    "# \n",
    "# Execute the query and get the table names\n",
    "tables = pd.read_sql_query(query, conn)\n",
    "geom = pd.read_sql_query(query_pid, conn_pid)\n",
    "conn_pid.close()\n",
    "\n",
    "# hex = [gpd.read_file(hex_path, layer=layer, columns=['id', 'geom']) for layer in grids]\n",
    "# hex = dict(zip(grids, hex))\n",
    "tables_list = tables['name'].tolist()\n",
    "tables_list = [table for table in tables_list if 'full' in table]\n",
    "print(tables_list)"
   ],
   "metadata": {
    "collapsed": false,
    "ExecuteTime": {
     "end_time": "2024-11-05T13:06:56.070237Z",
     "start_time": "2024-11-05T13:06:46.950008Z"
    }
   },
   "id": "45ce886e44ade40e",
   "execution_count": 6
  },
  {
   "cell_type": "code",
   "outputs": [
    {
     "name": "stdout",
     "output_type": "stream",
     "text": [
      "Found 81 tables\n"
     ]
    },
    {
     "name": "stderr",
     "output_type": "stream",
     "text": [
      "100%|██████████| 81/81 [47:17<00:00, 35.03s/it]   \n"
     ]
    }
   ],
   "source": [
    "# Query the table\n",
    "print('Found {} tables'.format(len(tables_list)))\n",
    "i=0\n",
    "\n",
    "for table_name in tqdm(tables_list):\n",
    "\n",
    "    query = \"SELECT * FROM \" + table_name \n",
    "\n",
    "    # Read the data into a Pandas DataFrame\n",
    "    df = pd.read_sql_query(query, conn)\n",
    "    # df.drop('geometry', axis=1, inplace=True)\n",
    "    \n",
    "    # pid_list = df['pid'].to_list()\n",
    "    # pid_geom = geom[geom['pid'].isin(pid_list)].copy()\n",
    "    # pid_geom['geometry'] = pid_geom['geometry'].apply(wkt.loads)\n",
    "\n",
    "    # df_geom = df.merge(pid_geom, how='left', on='pid')\n",
    "\n",
    "    # Convert to a GeoDataFrame\n",
    "    df['geometry'] = df['geometry'].apply(wkt.loads)\n",
    "    gdf = gpd.GeoDataFrame(df, geometry='geometry', crs='EPSG:4326').to_crs(epsg='2154')\n",
    "    gdf = gdf.reset_index()\n",
    "\n",
    "    if i == 0:\n",
    "        pyogrio.write_dataframe(gdf, geopackage_path, layer=\"data\", driver=\"GPKG\")\n",
    "    else:\n",
    "        pyogrio.write_dataframe(gdf, geopackage_path, layer=\"data\", driver=\"GPKG\", append=True)\n",
    "        \n",
    "    i+=1\n",
    "    \n",
    "# Close the connection\n",
    "conn.close()\n"
   ],
   "metadata": {
    "collapsed": false,
    "ExecuteTime": {
     "end_time": "2024-11-05T13:54:13.650257Z",
     "start_time": "2024-11-05T13:06:56.072483Z"
    }
   },
   "id": "54b92b1f792a83eb",
   "execution_count": 7
  }
 ],
 "metadata": {
  "kernelspec": {
   "display_name": "Python 3",
   "language": "python",
   "name": "python3"
  },
  "language_info": {
   "codemirror_mode": {
    "name": "ipython",
    "version": 2
   },
   "file_extension": ".py",
   "mimetype": "text/x-python",
   "name": "python",
   "nbconvert_exporter": "python",
   "pygments_lexer": "ipython2",
   "version": "2.7.6"
  }
 },
 "nbformat": 4,
 "nbformat_minor": 5
}
